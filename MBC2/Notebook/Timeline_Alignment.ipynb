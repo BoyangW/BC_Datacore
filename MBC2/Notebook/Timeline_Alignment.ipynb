{
 "cells": [
  {
   "cell_type": "markdown",
   "metadata": {},
   "source": [
    "### Weekly Timeline Alignment for 4 OutcomeTables \n",
    "#### This notebook adds addtional feature (number of week from starting date) to cleaned version of outcome tables "
   ]
  },
  {
   "cell_type": "code",
   "execution_count": 1,
   "metadata": {},
   "outputs": [],
   "source": [
    "import pandas as pd\n",
    "import numpy as np\n",
    "import pandasql as ps\n",
    "import time \n",
    "import datetime \n",
    "import matplotlib.pyplot as plt\n",
    "import seaborn as sns\n",
    "import math"
   ]
  },
  {
   "cell_type": "code",
   "execution_count": 94,
   "metadata": {},
   "outputs": [],
   "source": [
    "#import cleaned tables \n",
    "df_food = pd.read_csv('df_food_outliers.csv') \n",
    "df_pa_16k = pd.read_csv('pa_combined_16k.csv') \n",
    "df_pa_20k = pd.read_csv('pa_combined_20k.csv') \n",
    "df_sed =  pd.read_csv('sed_clean.csv') \n",
    "df_user = pd.read_csv('users.csv') "
   ]
  },
  {
   "cell_type": "markdown",
   "metadata": {},
   "source": [
    "### Starting Time Alignment (self-reported PA)"
   ]
  },
  {
   "cell_type": "code",
   "execution_count": 3,
   "metadata": {},
   "outputs": [
    {
     "name": "stdout",
     "output_type": "stream",
     "text": [
      "There are 212 participants in intervention/follow-up period\n"
     ]
    }
   ],
   "source": [
    "#all participants\n",
    "id_list = []\n",
    "for i in range(df_user.shape[0]):\n",
    "    #extract users' name starting with 'mbc2'\n",
    "    if (df_user['username'][i][0:4] == 'mbc2'):\n",
    "        id_list.append(df_user['user_id'][i])\n",
    "id_list.sort()\n",
    "print('There are', len(id_list), 'participants in intervention/follow-up period')"
   ]
  },
  {
   "cell_type": "code",
   "execution_count": 4,
   "metadata": {},
   "outputs": [],
   "source": [
    "df_user= df_user[df_user['user_id'].isin(id_list)]"
   ]
  },
  {
   "cell_type": "code",
   "execution_count": 86,
   "metadata": {},
   "outputs": [],
   "source": [
    "def timeAlign(outcome, df_target, df_user):\n",
    "    #merge start_date to exsiting tables\n",
    "    #df_user\n",
    "    df_user_temp = df_user[['study_id', 'start_date']]\n",
    "\n",
    "    #merge both\n",
    "    result = pd.merge(df_user_temp, df_target, how='left', on=['study_id'])\n",
    "    result = result.dropna()\n",
    "\n",
    "    #### convert date to datetime type\n",
    "    result['time1'] = result['upload_time'].apply(lambda x: datetime.datetime.strptime(x, '%m/%d/%Y'))\n",
    "    result['time2'] = result['start_date'].apply(lambda x: datetime.datetime.strptime(x, '%Y-%m-%d %H:%M:%S'))\n",
    "\n",
    "    #get the time difference (in days)\n",
    "    result['time_diff'] = result['time1'] - result['time2']\n",
    "    result['time_diff'] = result['time_diff'].apply(lambda x: x.days)\n",
    "    #print('There', sum(result['time_diff'] < 0), 'rows of data that are before starting date')\n",
    "\n",
    "    #calculate the correponding weeks (around up)\n",
    "    result['upload_week'] = result['time_diff'].apply(lambda x: math.ceil(x/7))\n",
    "\n",
    "    total = result.shape[0]\n",
    "    time_before = sum(result['time_diff'] < 0)\n",
    "    time_93days = sum(result['time_diff'] > (9 * 31))\n",
    "    time_39week = sum(result['upload_week'] > 39)\n",
    "    time_40week = sum(result['upload_week'] > 40)\n",
    "    time_41week = sum(result['upload_week'] > 41)\n",
    "    time_42week = sum(result['upload_week'] > 42)\n",
    "    time_43week = sum(result['upload_week'] > 43)\n",
    "    time_44week = sum(result['upload_week'] > 44)\n",
    "\n",
    "    return([outcome, total, time_before, time_93days, time_39week, time_40week, time_41week, time_42week, time_43week, time_44week])\n"
   ]
  },
  {
   "cell_type": "code",
   "execution_count": 87,
   "metadata": {},
   "outputs": [],
   "source": [
    "def timeAlignPA(outcome, df_target, df_user):\n",
    "    #merge start_date to exsiting tables\n",
    "    #df_user\n",
    "    df_user_temp = df_user[['study_id', 'start_date']]\n",
    "\n",
    "    #merge both\n",
    "    result = pd.merge(df_user_temp, df_target, how='left', on=['study_id'])\n",
    "    result = result.dropna()\n",
    "\n",
    "    #### convert date to datetime type\n",
    "    result['time1'] = result['upload_time'].apply(lambda x: datetime.datetime.strptime(x, '%Y-%m-%d'))\n",
    "    result['time2'] = result['start_date'].apply(lambda x: datetime.datetime.strptime(x, '%Y-%m-%d %H:%M:%S'))\n",
    "\n",
    "    #get the time difference (in days)\n",
    "    result['time_diff'] = result['time1'] - result['time2']\n",
    "    result['time_diff'] = result['time_diff'].apply(lambda x: x.days)\n",
    "    #print('There', sum(result['time_diff'] < 0), 'rows of data that are before starting date')\n",
    "\n",
    "    #calculate the correponding weeks (around up)\n",
    "    result['upload_week'] = result['time_diff'].apply(lambda x: math.ceil(x/7))\n",
    "\n",
    "    total = result.shape[0]\n",
    "    time_before = sum(result['time_diff'] < 0)\n",
    "    time_93days = sum(result['time_diff'] > (9 * 31))\n",
    "    time_39week = sum(result['upload_week'] > 39)\n",
    "    time_40week = sum(result['upload_week'] > 40)\n",
    "    time_41week = sum(result['upload_week'] > 41)\n",
    "    time_42week = sum(result['upload_week'] > 42)\n",
    "    time_43week = sum(result['upload_week'] > 43)\n",
    "    time_44week = sum(result['upload_week'] > 44)\n",
    "\n",
    "    return([outcome, total, time_before, time_93days, time_39week, time_40week, time_41week, time_42week, time_43week, time_44week])\n"
   ]
  },
  {
   "cell_type": "code",
   "execution_count": 100,
   "metadata": {},
   "outputs": [],
   "source": [
    "def timeAlignSed(outcome, df_target, df_user):\n",
    "    #merge start_date to exsiting tables\n",
    "    #df_user\n",
    "    df_user_temp = df_user[['study_id', 'start_date']]\n",
    "\n",
    "    #merge both\n",
    "    result = pd.merge(df_user_temp, df_target, how='left', on=['study_id'])\n",
    "    result = result.dropna()\n",
    "\n",
    "    #### convert date to datetime type\n",
    "    result['time1'] = result['upload_time'].apply(lambda x: datetime.datetime.strptime(x, '%m/%d/%y'))\n",
    "    result['time2'] = result['start_date'].apply(lambda x: datetime.datetime.strptime(x, '%Y-%m-%d %H:%M:%S'))\n",
    "\n",
    "    #get the time difference (in days)\n",
    "    result['time_diff'] = result['time1'] - result['time2']\n",
    "    result['time_diff'] = result['time_diff'].apply(lambda x: x.days)\n",
    "    #print('There', sum(result['time_diff'] < 0), 'rows of data that are before starting date')\n",
    "\n",
    "    #calculate the correponding weeks (around up)\n",
    "    result['upload_week'] = result['time_diff'].apply(lambda x: math.ceil(x/7))\n",
    "\n",
    "    total = result.shape[0]\n",
    "    time_before = sum(result['time_diff'] < 0)\n",
    "    time_93days = sum(result['time_diff'] > (9 * 31))\n",
    "    time_39week = sum(result['upload_week'] > 39)\n",
    "    time_40week = sum(result['upload_week'] > 40)\n",
    "    time_41week = sum(result['upload_week'] > 41)\n",
    "    time_42week = sum(result['upload_week'] > 42)\n",
    "    time_43week = sum(result['upload_week'] > 43)\n",
    "    time_44week = sum(result['upload_week'] > 44)\n",
    "\n",
    "    return([outcome, total, time_before, time_93days, time_39week, time_40week, time_41week, time_42week, time_43week, time_44week])\n"
   ]
  },
  {
   "cell_type": "code",
   "execution_count": 104,
   "metadata": {},
   "outputs": [
    {
     "data": {
      "text/html": [
       "<div>\n",
       "<style scoped>\n",
       "    .dataframe tbody tr th:only-of-type {\n",
       "        vertical-align: middle;\n",
       "    }\n",
       "\n",
       "    .dataframe tbody tr th {\n",
       "        vertical-align: top;\n",
       "    }\n",
       "\n",
       "    .dataframe thead th {\n",
       "        text-align: right;\n",
       "    }\n",
       "</style>\n",
       "<table border=\"1\" class=\"dataframe\">\n",
       "  <thead>\n",
       "    <tr style=\"text-align: right;\">\n",
       "      <th></th>\n",
       "      <th>Outcome</th>\n",
       "      <th>Total Rows</th>\n",
       "      <th>Before Starting</th>\n",
       "      <th>&gt;9*31days</th>\n",
       "      <th>&gt;39weeks</th>\n",
       "      <th>&gt;40weeks</th>\n",
       "      <th>&gt;41weeks</th>\n",
       "      <th>&gt;42weeks</th>\n",
       "      <th>&gt;43weeks</th>\n",
       "      <th>&gt;44weeks</th>\n",
       "    </tr>\n",
       "  </thead>\n",
       "  <tbody>\n",
       "    <tr>\n",
       "      <th>0</th>\n",
       "      <td>Food</td>\n",
       "      <td>29788</td>\n",
       "      <td>0</td>\n",
       "      <td>723</td>\n",
       "      <td>1019</td>\n",
       "      <td>684</td>\n",
       "      <td>461</td>\n",
       "      <td>329</td>\n",
       "      <td>237</td>\n",
       "      <td>207</td>\n",
       "    </tr>\n",
       "    <tr>\n",
       "      <th>1</th>\n",
       "      <td>PA 16K Cutoff</td>\n",
       "      <td>25160</td>\n",
       "      <td>0</td>\n",
       "      <td>641</td>\n",
       "      <td>926</td>\n",
       "      <td>599</td>\n",
       "      <td>393</td>\n",
       "      <td>279</td>\n",
       "      <td>194</td>\n",
       "      <td>165</td>\n",
       "    </tr>\n",
       "    <tr>\n",
       "      <th>2</th>\n",
       "      <td>PA 20K Cutoff</td>\n",
       "      <td>25161</td>\n",
       "      <td>0</td>\n",
       "      <td>641</td>\n",
       "      <td>926</td>\n",
       "      <td>599</td>\n",
       "      <td>393</td>\n",
       "      <td>279</td>\n",
       "      <td>194</td>\n",
       "      <td>165</td>\n",
       "    </tr>\n",
       "    <tr>\n",
       "      <th>3</th>\n",
       "      <td>Sedentary</td>\n",
       "      <td>26441</td>\n",
       "      <td>0</td>\n",
       "      <td>576</td>\n",
       "      <td>803</td>\n",
       "      <td>544</td>\n",
       "      <td>391</td>\n",
       "      <td>280</td>\n",
       "      <td>203</td>\n",
       "      <td>177</td>\n",
       "    </tr>\n",
       "  </tbody>\n",
       "</table>\n",
       "</div>"
      ],
      "text/plain": [
       "         Outcome  Total Rows  Before Starting  >9*31days  >39weeks  >40weeks  \\\n",
       "0           Food       29788                0        723      1019       684   \n",
       "1  PA 16K Cutoff       25160                0        641       926       599   \n",
       "2  PA 20K Cutoff       25161                0        641       926       599   \n",
       "3      Sedentary       26441                0        576       803       544   \n",
       "\n",
       "   >41weeks  >42weeks  >43weeks  >44weeks  \n",
       "0       461       329       237       207  \n",
       "1       393       279       194       165  \n",
       "2       393       279       194       165  \n",
       "3       391       280       203       177  "
      ]
     },
     "execution_count": 104,
     "metadata": {},
     "output_type": "execute_result"
    }
   ],
   "source": [
    "allList = [timeAlign('Food', df_food, df_user),timeAlignPA('PA 16K Cutoff', df_pa_16k, df_user),timeAlignPA('PA 20K Cutoff', df_pa_20k, df_user), timeAlignSed('Sedentary', df_sed, df_user)]\n",
    "pd.DataFrame(allList, columns=['Outcome', 'Total Rows', 'Before Starting', '>9*31days', '>39weeks', '>40weeks', '>41weeks', '>42weeks','>43weeks','>44weeks'])"
   ]
  }
 ],
 "metadata": {
  "kernelspec": {
   "display_name": "Python 3",
   "language": "python",
   "name": "python3"
  },
  "language_info": {
   "codemirror_mode": {
    "name": "ipython",
    "version": 3
   },
   "file_extension": ".py",
   "mimetype": "text/x-python",
   "name": "python",
   "nbconvert_exporter": "python",
   "pygments_lexer": "ipython3",
   "version": "3.7.3"
  }
 },
 "nbformat": 4,
 "nbformat_minor": 4
}
