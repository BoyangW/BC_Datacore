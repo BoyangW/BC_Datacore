{
 "cells": [
  {
   "cell_type": "markdown",
   "metadata": {},
   "source": [
    "### Merge MBC2 basline + intervention/follow-up data\n",
    "#### This notebook merge 3 pairs of MBC2 cleaned baseline and intervention/follow-up tables together"
   ]
  },
  {
   "cell_type": "code",
   "execution_count": 1,
   "metadata": {},
   "outputs": [],
   "source": [
    "import pandas as pd\n",
    "import datetime "
   ]
  },
  {
   "cell_type": "code",
   "execution_count": 2,
   "metadata": {},
   "outputs": [],
   "source": [
    "#import cleaned tables \n",
    "df_all_baseline = pd.read_csv('MBC2_Baseline/Result/Final/MBC2_all.csv') \n",
    "df_all_followup = pd.read_csv('MBC2_Copy/Result/Final/MBC2_all.csv') "
   ]
  },
  {
   "cell_type": "code",
   "execution_count": 3,
   "metadata": {},
   "outputs": [],
   "source": [
    "#merge 3 pairs\n",
    "df_all = df_all_baseline.append(df_all_followup, ignore_index=True)"
   ]
  },
  {
   "cell_type": "code",
   "execution_count": 4,
   "metadata": {},
   "outputs": [
    {
     "data": {
      "text/plain": [
       "(58082, 32)"
      ]
     },
     "execution_count": 4,
     "metadata": {},
     "output_type": "execute_result"
    }
   ],
   "source": [
    "df_filtered = df_all[df_all['goal'] <= 11]\n",
    "df_filtered = df_filtered.drop_duplicates()\n",
    "df_filtered.shape"
   ]
  },
  {
   "cell_type": "code",
   "execution_count": 5,
   "metadata": {},
   "outputs": [],
   "source": [
    "df_filtered.to_csv('Final Data/MBC2_all.csv', index=False)"
   ]
  },
  {
   "cell_type": "code",
   "execution_count": 6,
   "metadata": {},
   "outputs": [
    {
     "data": {
      "text/html": [
       "<div>\n",
       "<style scoped>\n",
       "    .dataframe tbody tr th:only-of-type {\n",
       "        vertical-align: middle;\n",
       "    }\n",
       "\n",
       "    .dataframe tbody tr th {\n",
       "        vertical-align: top;\n",
       "    }\n",
       "\n",
       "    .dataframe thead th {\n",
       "        text-align: right;\n",
       "    }\n",
       "</style>\n",
       "<table border=\"1\" class=\"dataframe\">\n",
       "  <thead>\n",
       "    <tr style=\"text-align: right;\">\n",
       "      <th></th>\n",
       "      <th>study_id</th>\n",
       "      <th>upload_time</th>\n",
       "      <th>goal</th>\n",
       "      <th>cond</th>\n",
       "      <th>age</th>\n",
       "      <th>sex</th>\n",
       "      <th>relstatus</th>\n",
       "      <th>edlevel</th>\n",
       "      <th>income</th>\n",
       "      <th>employ</th>\n",
       "      <th>...</th>\n",
       "      <th>calories</th>\n",
       "      <th>saturated_fatty_acids</th>\n",
       "      <th>fv_credit</th>\n",
       "      <th>sed_min_outlier</th>\n",
       "      <th>pa_min_outlier</th>\n",
       "      <th>pa_min_outlier_16k</th>\n",
       "      <th>pa_min_outlier_20k</th>\n",
       "      <th>calories_outlier</th>\n",
       "      <th>fat_outlier</th>\n",
       "      <th>fv_outlier</th>\n",
       "    </tr>\n",
       "  </thead>\n",
       "  <tbody>\n",
       "    <tr>\n",
       "      <th>0</th>\n",
       "      <td>1436.0</td>\n",
       "      <td>2012-07-18</td>\n",
       "      <td>0</td>\n",
       "      <td>2</td>\n",
       "      <td>58</td>\n",
       "      <td>1</td>\n",
       "      <td>1</td>\n",
       "      <td>9</td>\n",
       "      <td>1</td>\n",
       "      <td>2</td>\n",
       "      <td>...</td>\n",
       "      <td>691.099476</td>\n",
       "      <td>9.564586</td>\n",
       "      <td>1.0</td>\n",
       "      <td>0.0</td>\n",
       "      <td>0.0</td>\n",
       "      <td>0.0</td>\n",
       "      <td>0.0</td>\n",
       "      <td>0.0</td>\n",
       "      <td>0.0</td>\n",
       "      <td>0.0</td>\n",
       "    </tr>\n",
       "    <tr>\n",
       "      <th>1</th>\n",
       "      <td>1436.0</td>\n",
       "      <td>2012-07-30</td>\n",
       "      <td>0</td>\n",
       "      <td>2</td>\n",
       "      <td>58</td>\n",
       "      <td>1</td>\n",
       "      <td>1</td>\n",
       "      <td>9</td>\n",
       "      <td>1</td>\n",
       "      <td>2</td>\n",
       "      <td>...</td>\n",
       "      <td>1431.880000</td>\n",
       "      <td>16.500000</td>\n",
       "      <td>0.0</td>\n",
       "      <td>0.0</td>\n",
       "      <td>999999.0</td>\n",
       "      <td>999999.0</td>\n",
       "      <td>999999.0</td>\n",
       "      <td>0.0</td>\n",
       "      <td>0.0</td>\n",
       "      <td>0.0</td>\n",
       "    </tr>\n",
       "    <tr>\n",
       "      <th>2</th>\n",
       "      <td>1436.0</td>\n",
       "      <td>2012-07-31</td>\n",
       "      <td>0</td>\n",
       "      <td>2</td>\n",
       "      <td>58</td>\n",
       "      <td>1</td>\n",
       "      <td>1</td>\n",
       "      <td>9</td>\n",
       "      <td>1</td>\n",
       "      <td>2</td>\n",
       "      <td>...</td>\n",
       "      <td>1730.000000</td>\n",
       "      <td>36.000000</td>\n",
       "      <td>0.0</td>\n",
       "      <td>0.0</td>\n",
       "      <td>999999.0</td>\n",
       "      <td>999999.0</td>\n",
       "      <td>999999.0</td>\n",
       "      <td>0.0</td>\n",
       "      <td>0.0</td>\n",
       "      <td>0.0</td>\n",
       "    </tr>\n",
       "    <tr>\n",
       "      <th>3</th>\n",
       "      <td>1436.0</td>\n",
       "      <td>2012-08-01</td>\n",
       "      <td>0</td>\n",
       "      <td>2</td>\n",
       "      <td>58</td>\n",
       "      <td>1</td>\n",
       "      <td>1</td>\n",
       "      <td>9</td>\n",
       "      <td>1</td>\n",
       "      <td>2</td>\n",
       "      <td>...</td>\n",
       "      <td>1765.961538</td>\n",
       "      <td>34.535256</td>\n",
       "      <td>0.0</td>\n",
       "      <td>0.0</td>\n",
       "      <td>999999.0</td>\n",
       "      <td>999999.0</td>\n",
       "      <td>999999.0</td>\n",
       "      <td>0.0</td>\n",
       "      <td>0.0</td>\n",
       "      <td>0.0</td>\n",
       "    </tr>\n",
       "    <tr>\n",
       "      <th>4</th>\n",
       "      <td>1436.0</td>\n",
       "      <td>2012-08-02</td>\n",
       "      <td>0</td>\n",
       "      <td>2</td>\n",
       "      <td>58</td>\n",
       "      <td>1</td>\n",
       "      <td>1</td>\n",
       "      <td>9</td>\n",
       "      <td>1</td>\n",
       "      <td>2</td>\n",
       "      <td>...</td>\n",
       "      <td>1191.971416</td>\n",
       "      <td>12.140760</td>\n",
       "      <td>3.3</td>\n",
       "      <td>0.0</td>\n",
       "      <td>999999.0</td>\n",
       "      <td>999999.0</td>\n",
       "      <td>999999.0</td>\n",
       "      <td>0.0</td>\n",
       "      <td>0.0</td>\n",
       "      <td>0.0</td>\n",
       "    </tr>\n",
       "  </tbody>\n",
       "</table>\n",
       "<p>5 rows × 32 columns</p>\n",
       "</div>"
      ],
      "text/plain": [
       "   study_id upload_time  goal  cond  age  sex  relstatus  edlevel  income  \\\n",
       "0    1436.0  2012-07-18     0     2   58    1          1        9       1   \n",
       "1    1436.0  2012-07-30     0     2   58    1          1        9       1   \n",
       "2    1436.0  2012-07-31     0     2   58    1          1        9       1   \n",
       "3    1436.0  2012-08-01     0     2   58    1          1        9       1   \n",
       "4    1436.0  2012-08-02     0     2   58    1          1        9       1   \n",
       "\n",
       "   employ  ...     calories  saturated_fatty_acids  fv_credit  \\\n",
       "0       2  ...   691.099476               9.564586        1.0   \n",
       "1       2  ...  1431.880000              16.500000        0.0   \n",
       "2       2  ...  1730.000000              36.000000        0.0   \n",
       "3       2  ...  1765.961538              34.535256        0.0   \n",
       "4       2  ...  1191.971416              12.140760        3.3   \n",
       "\n",
       "   sed_min_outlier  pa_min_outlier  pa_min_outlier_16k  pa_min_outlier_20k  \\\n",
       "0              0.0             0.0                 0.0                 0.0   \n",
       "1              0.0        999999.0            999999.0            999999.0   \n",
       "2              0.0        999999.0            999999.0            999999.0   \n",
       "3              0.0        999999.0            999999.0            999999.0   \n",
       "4              0.0        999999.0            999999.0            999999.0   \n",
       "\n",
       "   calories_outlier  fat_outlier  fv_outlier  \n",
       "0               0.0          0.0         0.0  \n",
       "1               0.0          0.0         0.0  \n",
       "2               0.0          0.0         0.0  \n",
       "3               0.0          0.0         0.0  \n",
       "4               0.0          0.0         0.0  \n",
       "\n",
       "[5 rows x 32 columns]"
      ]
     },
     "execution_count": 6,
     "metadata": {},
     "output_type": "execute_result"
    }
   ],
   "source": [
    "df_filtered.head(5)"
   ]
  },
  {
   "cell_type": "markdown",
   "metadata": {},
   "source": [
    "## Add tag varible - baseline (raw data_baseline)"
   ]
  },
  {
   "cell_type": "code",
   "execution_count": 48,
   "metadata": {},
   "outputs": [],
   "source": [
    "df_all = pd.read_csv('Final Data/MBC2_all.csv')\n",
    "df_check = pd.read_csv('rawudata_baseline_elig_2021-03-04.csv')\n",
    "df_check['Baseline_tag'] = [1]*df_check.shape[0]\n",
    "\n",
    "df_check = df_check[['Study ID ', 'Date ', 'Baseline_tag']]\n",
    "df_check.columns = ['study_id', 'upload_time', 'baseline_tag']\n",
    "df_check['upload_time'] = pd.to_datetime(df_check.upload_time)\n",
    "df_all['upload_time'] = pd.to_datetime(df_all.upload_time)"
   ]
  },
  {
   "cell_type": "code",
   "execution_count": 49,
   "metadata": {},
   "outputs": [],
   "source": [
    "df_result = pd.merge(df_all, df_check, how=\"left\", on=[\"study_id\", \"upload_time\"])\n",
    "df_result['baseline_tag'] = df_result['baseline_tag'].fillna(0)"
   ]
  },
  {
   "cell_type": "code",
   "execution_count": 51,
   "metadata": {},
   "outputs": [],
   "source": [
    "df_result.to_csv('Final Data/MBC2_all.csv', index=False)"
   ]
  }
 ],
 "metadata": {
  "kernelspec": {
   "display_name": "Python 3",
   "language": "python",
   "name": "python3"
  },
  "language_info": {
   "codemirror_mode": {
    "name": "ipython",
    "version": 3
   },
   "file_extension": ".py",
   "mimetype": "text/x-python",
   "name": "python",
   "nbconvert_exporter": "python",
   "pygments_lexer": "ipython3",
   "version": "3.7.3"
  }
 },
 "nbformat": 4,
 "nbformat_minor": 4
}
