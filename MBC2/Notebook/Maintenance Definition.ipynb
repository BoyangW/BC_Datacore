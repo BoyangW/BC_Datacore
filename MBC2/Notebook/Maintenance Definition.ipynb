{
 "cells": [
  {
   "cell_type": "code",
   "execution_count": 1,
   "metadata": {},
   "outputs": [],
   "source": [
    "import pandas as pd\n",
    "import numpy as np\n",
    "import pandasql as ps\n",
    "import time \n",
    "import datetime \n",
    "import matplotlib.pyplot as plt\n",
    "import seaborn as sns\n",
    "import math"
   ]
  },
  {
   "cell_type": "markdown",
   "metadata": {},
   "source": [
    "### Read Cleaned Dataset"
   ]
  },
  {
   "cell_type": "code",
   "execution_count": 2,
   "metadata": {},
   "outputs": [],
   "source": [
    "df_pa = pd.read_csv('Result_Weekly/pa_merged_align.csv')\n",
    "df_user = pd.read_csv('Raw Data/users.csv') "
   ]
  },
  {
   "cell_type": "code",
   "execution_count": 3,
   "metadata": {},
   "outputs": [],
   "source": [
    "#merging user groups\n",
    "#0: baseline 1:control 2:simutaneous 3:sequential\n",
    "\n",
    "#all participants\n",
    "id_list = []\n",
    "for i in range(df_user.shape[0]):\n",
    "    #extract users' name starting with 'mbc2'\n",
    "    if (df_user['username'][i][0:4] == 'mbc2'):\n",
    "        id_list.append(df_user['user_id'][i])\n",
    "id_list.sort()"
   ]
  },
  {
   "cell_type": "code",
   "execution_count": 4,
   "metadata": {},
   "outputs": [],
   "source": [
    "group_list = []\n",
    "for user_id in id_list:\n",
    "    group_list.append(df_user[df_user['user_id'] == user_id]['cond'].values[0])"
   ]
  },
  {
   "cell_type": "code",
   "execution_count": 5,
   "metadata": {},
   "outputs": [],
   "source": [
    "df_user_info = pd.DataFrame(list(zip(id_list, group_list)), columns =['user_id', 'group']) "
   ]
  },
  {
   "cell_type": "markdown",
   "metadata": {},
   "source": [
    "### Outlier Removal"
   ]
  },
  {
   "cell_type": "code",
   "execution_count": 6,
   "metadata": {},
   "outputs": [],
   "source": [
    "def getIQR(df, column):\n",
    "    l = list(df[column])\n",
    "    q1 = np.percentile(l, 25)  \n",
    "    q3 = np.percentile(l, 75)\n",
    "    IQR = q3-q1\n",
    "    low = q1 - 1.5*IQR\n",
    "    high = q3+1.5*IQR\n",
    "    return [low, high]"
   ]
  },
  {
   "cell_type": "code",
   "execution_count": 7,
   "metadata": {},
   "outputs": [],
   "source": [
    "# create labels for outliers\n",
    "df_pa['outlier']= [1 if x>getIQR(df_pa, 'upload_min')[1] or x<getIQR(df_pa, 'upload_min')[0] else 0 for x in df_pa['upload_min']] "
   ]
  },
  {
   "cell_type": "code",
   "execution_count": 8,
   "metadata": {},
   "outputs": [
    {
     "data": {
      "text/html": [
       "<div>\n",
       "<style scoped>\n",
       "    .dataframe tbody tr th:only-of-type {\n",
       "        vertical-align: middle;\n",
       "    }\n",
       "\n",
       "    .dataframe tbody tr th {\n",
       "        vertical-align: top;\n",
       "    }\n",
       "\n",
       "    .dataframe thead th {\n",
       "        text-align: right;\n",
       "    }\n",
       "</style>\n",
       "<table border=\"1\" class=\"dataframe\">\n",
       "  <thead>\n",
       "    <tr style=\"text-align: right;\">\n",
       "      <th></th>\n",
       "      <th>user_id</th>\n",
       "      <th>upload_time</th>\n",
       "      <th>upload_min</th>\n",
       "      <th>upload_week</th>\n",
       "      <th>outlier</th>\n",
       "    </tr>\n",
       "  </thead>\n",
       "  <tbody>\n",
       "    <tr>\n",
       "      <th>0</th>\n",
       "      <td>1</td>\n",
       "      <td>2012-09-06</td>\n",
       "      <td>20.0</td>\n",
       "      <td>2</td>\n",
       "      <td>0</td>\n",
       "    </tr>\n",
       "    <tr>\n",
       "      <th>1</th>\n",
       "      <td>1</td>\n",
       "      <td>2012-09-07</td>\n",
       "      <td>22.0</td>\n",
       "      <td>2</td>\n",
       "      <td>0</td>\n",
       "    </tr>\n",
       "    <tr>\n",
       "      <th>2</th>\n",
       "      <td>1</td>\n",
       "      <td>2012-09-10</td>\n",
       "      <td>20.0</td>\n",
       "      <td>2</td>\n",
       "      <td>0</td>\n",
       "    </tr>\n",
       "    <tr>\n",
       "      <th>3</th>\n",
       "      <td>1</td>\n",
       "      <td>2012-09-12</td>\n",
       "      <td>20.0</td>\n",
       "      <td>3</td>\n",
       "      <td>0</td>\n",
       "    </tr>\n",
       "    <tr>\n",
       "      <th>4</th>\n",
       "      <td>1</td>\n",
       "      <td>2012-09-16</td>\n",
       "      <td>24.0</td>\n",
       "      <td>3</td>\n",
       "      <td>0</td>\n",
       "    </tr>\n",
       "  </tbody>\n",
       "</table>\n",
       "</div>"
      ],
      "text/plain": [
       "   user_id upload_time  upload_min  upload_week  outlier\n",
       "0        1  2012-09-06        20.0            2        0\n",
       "1        1  2012-09-07        22.0            2        0\n",
       "2        1  2012-09-10        20.0            2        0\n",
       "3        1  2012-09-12        20.0            3        0\n",
       "4        1  2012-09-16        24.0            3        0"
      ]
     },
     "execution_count": 8,
     "metadata": {},
     "output_type": "execute_result"
    }
   ],
   "source": [
    "df_pa.head(5)"
   ]
  },
  {
   "cell_type": "code",
   "execution_count": 9,
   "metadata": {},
   "outputs": [
    {
     "data": {
      "text/html": [
       "<div>\n",
       "<style scoped>\n",
       "    .dataframe tbody tr th:only-of-type {\n",
       "        vertical-align: middle;\n",
       "    }\n",
       "\n",
       "    .dataframe tbody tr th {\n",
       "        vertical-align: top;\n",
       "    }\n",
       "\n",
       "    .dataframe thead th {\n",
       "        text-align: right;\n",
       "    }\n",
       "</style>\n",
       "<table border=\"1\" class=\"dataframe\">\n",
       "  <thead>\n",
       "    <tr style=\"text-align: right;\">\n",
       "      <th></th>\n",
       "      <th>user_id</th>\n",
       "      <th>upload_time</th>\n",
       "      <th>upload_min</th>\n",
       "      <th>upload_week</th>\n",
       "      <th>outlier</th>\n",
       "    </tr>\n",
       "  </thead>\n",
       "  <tbody>\n",
       "    <tr>\n",
       "      <th>0</th>\n",
       "      <td>1</td>\n",
       "      <td>2012-09-06</td>\n",
       "      <td>20.0</td>\n",
       "      <td>2</td>\n",
       "      <td>0</td>\n",
       "    </tr>\n",
       "    <tr>\n",
       "      <th>1</th>\n",
       "      <td>1</td>\n",
       "      <td>2012-09-07</td>\n",
       "      <td>22.0</td>\n",
       "      <td>2</td>\n",
       "      <td>0</td>\n",
       "    </tr>\n",
       "    <tr>\n",
       "      <th>2</th>\n",
       "      <td>1</td>\n",
       "      <td>2012-09-10</td>\n",
       "      <td>20.0</td>\n",
       "      <td>2</td>\n",
       "      <td>0</td>\n",
       "    </tr>\n",
       "    <tr>\n",
       "      <th>3</th>\n",
       "      <td>1</td>\n",
       "      <td>2012-09-12</td>\n",
       "      <td>20.0</td>\n",
       "      <td>3</td>\n",
       "      <td>0</td>\n",
       "    </tr>\n",
       "    <tr>\n",
       "      <th>4</th>\n",
       "      <td>1</td>\n",
       "      <td>2012-09-16</td>\n",
       "      <td>24.0</td>\n",
       "      <td>3</td>\n",
       "      <td>0</td>\n",
       "    </tr>\n",
       "  </tbody>\n",
       "</table>\n",
       "</div>"
      ],
      "text/plain": [
       "   user_id upload_time  upload_min  upload_week  outlier\n",
       "0        1  2012-09-06        20.0            2        0\n",
       "1        1  2012-09-07        22.0            2        0\n",
       "2        1  2012-09-10        20.0            2        0\n",
       "3        1  2012-09-12        20.0            3        0\n",
       "4        1  2012-09-16        24.0            3        0"
      ]
     },
     "execution_count": 9,
     "metadata": {},
     "output_type": "execute_result"
    }
   ],
   "source": [
    "# get cleaned combined MVPA outcome (outlier removed)\n",
    "df_pa_clean = df_pa[df_pa['outlier'] == 0]\n",
    "df_pa_clean.head(5)"
   ]
  },
  {
   "cell_type": "code",
   "execution_count": 10,
   "metadata": {},
   "outputs": [
    {
     "data": {
      "text/html": [
       "<div>\n",
       "<style scoped>\n",
       "    .dataframe tbody tr th:only-of-type {\n",
       "        vertical-align: middle;\n",
       "    }\n",
       "\n",
       "    .dataframe tbody tr th {\n",
       "        vertical-align: top;\n",
       "    }\n",
       "\n",
       "    .dataframe thead th {\n",
       "        text-align: right;\n",
       "    }\n",
       "</style>\n",
       "<table border=\"1\" class=\"dataframe\">\n",
       "  <thead>\n",
       "    <tr style=\"text-align: right;\">\n",
       "      <th></th>\n",
       "      <th>user_id</th>\n",
       "      <th>upload_week</th>\n",
       "      <th>PA_Min_AVG</th>\n",
       "    </tr>\n",
       "  </thead>\n",
       "  <tbody>\n",
       "    <tr>\n",
       "      <th>0</th>\n",
       "      <td>1</td>\n",
       "      <td>0</td>\n",
       "      <td>14.00</td>\n",
       "    </tr>\n",
       "    <tr>\n",
       "      <th>1</th>\n",
       "      <td>1</td>\n",
       "      <td>2</td>\n",
       "      <td>141.75</td>\n",
       "    </tr>\n",
       "    <tr>\n",
       "      <th>2</th>\n",
       "      <td>1</td>\n",
       "      <td>3</td>\n",
       "      <td>120.75</td>\n",
       "    </tr>\n",
       "    <tr>\n",
       "      <th>3</th>\n",
       "      <td>1</td>\n",
       "      <td>4</td>\n",
       "      <td>140.00</td>\n",
       "    </tr>\n",
       "    <tr>\n",
       "      <th>4</th>\n",
       "      <td>1</td>\n",
       "      <td>5</td>\n",
       "      <td>282.00</td>\n",
       "    </tr>\n",
       "  </tbody>\n",
       "</table>\n",
       "</div>"
      ],
      "text/plain": [
       "   user_id  upload_week  PA_Min_AVG\n",
       "0        1            0       14.00\n",
       "1        1            2      141.75\n",
       "2        1            3      120.75\n",
       "3        1            4      140.00\n",
       "4        1            5      282.00"
      ]
     },
     "execution_count": 10,
     "metadata": {},
     "output_type": "execute_result"
    }
   ],
   "source": [
    "# aggregate by week\n",
    "#weekly\n",
    "df_weekly = ps.sqldf('select user_id, upload_week, avg(upload_min) as PA_Min_AVG from df_pa_clean group by user_id, upload_week')\n",
    "df_weekly['PA_Min_AVG'] = df_weekly['PA_Min_AVG']*7 #multiply by user by week to get weekly estimate\n",
    "df_weekly.head(5)"
   ]
  },
  {
   "cell_type": "markdown",
   "metadata": {},
   "source": [
    "### Definition: Slope/Trend"
   ]
  },
  {
   "cell_type": "code",
   "execution_count": 13,
   "metadata": {},
   "outputs": [
    {
     "data": {
      "text/html": [
       "<div>\n",
       "<style scoped>\n",
       "    .dataframe tbody tr th:only-of-type {\n",
       "        vertical-align: middle;\n",
       "    }\n",
       "\n",
       "    .dataframe tbody tr th {\n",
       "        vertical-align: top;\n",
       "    }\n",
       "\n",
       "    .dataframe thead th {\n",
       "        text-align: right;\n",
       "    }\n",
       "</style>\n",
       "<table border=\"1\" class=\"dataframe\">\n",
       "  <thead>\n",
       "    <tr style=\"text-align: right;\">\n",
       "      <th></th>\n",
       "      <th>user_id</th>\n",
       "      <th>upload_week</th>\n",
       "      <th>PA_Min_AVG</th>\n",
       "    </tr>\n",
       "  </thead>\n",
       "  <tbody>\n",
       "    <tr>\n",
       "      <th>0</th>\n",
       "      <td>1</td>\n",
       "      <td>0</td>\n",
       "      <td>14.00</td>\n",
       "    </tr>\n",
       "    <tr>\n",
       "      <th>1</th>\n",
       "      <td>1</td>\n",
       "      <td>2</td>\n",
       "      <td>141.75</td>\n",
       "    </tr>\n",
       "    <tr>\n",
       "      <th>2</th>\n",
       "      <td>1</td>\n",
       "      <td>3</td>\n",
       "      <td>120.75</td>\n",
       "    </tr>\n",
       "    <tr>\n",
       "      <th>3</th>\n",
       "      <td>1</td>\n",
       "      <td>4</td>\n",
       "      <td>140.00</td>\n",
       "    </tr>\n",
       "    <tr>\n",
       "      <th>4</th>\n",
       "      <td>1</td>\n",
       "      <td>5</td>\n",
       "      <td>282.00</td>\n",
       "    </tr>\n",
       "  </tbody>\n",
       "</table>\n",
       "</div>"
      ],
      "text/plain": [
       "   user_id  upload_week  PA_Min_AVG\n",
       "0        1            0       14.00\n",
       "1        1            2      141.75\n",
       "2        1            3      120.75\n",
       "3        1            4      140.00\n",
       "4        1            5      282.00"
      ]
     },
     "execution_count": 13,
     "metadata": {},
     "output_type": "execute_result"
    }
   ],
   "source": [
    "df_weekly.head(5)"
   ]
  },
  {
   "cell_type": "code",
   "execution_count": 14,
   "metadata": {},
   "outputs": [
    {
     "data": {
      "text/plain": [
       "199"
      ]
     },
     "execution_count": 14,
     "metadata": {},
     "output_type": "execute_result"
    }
   ],
   "source": [
    "len(df_weekly['user_id'].unique())"
   ]
  },
  {
   "cell_type": "code",
   "execution_count": 58,
   "metadata": {},
   "outputs": [
    {
     "name": "stdout",
     "output_type": "stream",
     "text": [
      "Total number of participants that have records at month 3 and 9 is: 124\n"
     ]
    }
   ],
   "source": [
    "# refine user's upload week to contain either week 12/13/14 (month 3)\n",
    "df_0 = df_weekly[df_weekly['upload_week'] == 12]\n",
    "df_1 = df_weekly[df_weekly['upload_week'] == 13]\n",
    "df_2 = df_weekly[df_weekly['upload_week'] == 14]\n",
    "\n",
    "# refine user's upload week to contain either week 38/39/40 (month 9)\n",
    "df_12 = df_weekly[df_weekly['upload_week'] == 38]\n",
    "df_13 = df_weekly[df_weekly['upload_week'] == 39]\n",
    "df_14 = df_weekly[df_weekly['upload_week'] == 40]\n",
    "\n",
    "id_list1 = set(list(df_0['user_id']) + list(df_1['user_id']) + list(df_2['user_id']))\n",
    "id_list2 = set(list(df_12['user_id']) + list(df_13['user_id']) + list(df_14['user_id']))\n",
    "\n",
    "               \n",
    "def intersection(lst1, lst2): \n",
    "    return list(set(lst1) & set(lst2)) \n",
    "\n",
    "id_list = intersection(id_list1,id_list2)\n",
    "print('Total number of participants that have records at month 3 and 9 is:', str(len(id_list)))"
   ]
  },
  {
   "cell_type": "markdown",
   "metadata": {},
   "source": [
    "#### Split by Groups"
   ]
  },
  {
   "cell_type": "code",
   "execution_count": 59,
   "metadata": {},
   "outputs": [],
   "source": [
    "id_list_1 = intersection(id_list, list(df_user_info[df_user_info['group']==1]['user_id']))\n",
    "id_list_2 = intersection(id_list, list(df_user_info[df_user_info['group']==2]['user_id']))\n",
    "id_list_3 = intersection(id_list, list(df_user_info[df_user_info['group']==3]['user_id']))"
   ]
  },
  {
   "cell_type": "code",
   "execution_count": 62,
   "metadata": {},
   "outputs": [
    {
     "data": {
      "image/png": "[encoded data removed]",
      "text/plain": [
       "<Figure size 1440x720 with 1 Axes>"
      ]
     },
     "metadata": {},
     "output_type": "display_data"
    }
   ],
   "source": [
    "#one user's cases (userID == 1)\n",
    "plt.figure(figsize=(20,10))\n",
    "ax = sns.lineplot(x=\"upload_week\", y=\"PA_Min_AVG\", hue=\"user_id\", data=df_weekly[df_weekly['user_id']==1])"
   ]
  },
  {
   "cell_type": "code",
   "execution_count": 63,
   "metadata": {},
   "outputs": [],
   "source": [
    "from sklearn.model_selection import train_test_split \n",
    "from sklearn.linear_model import LinearRegression\n",
    "from sklearn import metrics\n",
    "\n",
    "def getSlope(id_list):\n",
    "    slope1 = []\n",
    "    slope2 = []\n",
    "    ids = []\n",
    "    # set up break point at week 13\n",
    "    for user_id in id_list:\n",
    "        user1 = df_weekly[df_weekly['user_id'] == user_id]\n",
    "        try:\n",
    "            index = list(user1['upload_week']).index(13)\n",
    "        except ValueError:\n",
    "            #print('Week 13 could not be found, using week 12/14 istead')\n",
    "            if 12.in(list(user1['upload_week'])):\n",
    "                index = list(user1['upload_week']).index(12)\n",
    "            elif 14.in(list(user1['upload_week'])):\n",
    "                index =list(user1['upload_week']).index(14)\n",
    "            else:\n",
    "                print('Attention Needed')\n",
    "\n",
    "        # break up into two periods\n",
    "        #intervention = user1[:index]\n",
    "        follow_up = user1[index:]\n",
    "\n",
    "        # split into train/test\n",
    "        #print('id:', user_id )\n",
    "        ids.append(user_id)\n",
    "        #X1 = intervention['upload_week'].values.reshape(-1,1)\n",
    "        #y1 = intervention[\"PA_Min_AVG\"].values.reshape(-1,1)\n",
    "        X2 = follow_up['upload_week'].values.reshape(-1,1)\n",
    "        y2 = follow_up[\"PA_Min_AVG\"].values.reshape(-1,1)  \n",
    "\n",
    "        # build linear regression models\n",
    "        #regressor1 = LinearRegression()  \n",
    "        #regressor1.fit(X1, y1) #training the algorithm\n",
    "        #y_pred1 = regressor1.predict(X1)\n",
    "\n",
    "        regressor2 = LinearRegression()  \n",
    "        regressor2.fit(X2, y2) #training the algorithm\n",
    "        y_pred2 = regressor2.predict(X2)\n",
    "\n",
    "        #To retrieve the intercept:\n",
    "        #slope1.append(regressor1.coef_[0][0])\n",
    "        slope2.append(regressor2.coef_[0][0])\n",
    "    return slope2"
   ]
  },
  {
   "cell_type": "code",
   "execution_count": 64,
   "metadata": {},
   "outputs": [],
   "source": [
    "def getIQR(l):\n",
    "    q1 = np.percentile(l, 25)  \n",
    "    q3 = np.percentile(l, 75)\n",
    "    IQR = q3-q1\n",
    "    low = q1 - 1.5*IQR\n",
    "    high = q3+1.5*IQR\n",
    "    return [low, high]"
   ]
  },
  {
   "cell_type": "code",
   "execution_count": 65,
   "metadata": {},
   "outputs": [
    {
     "data": {
      "text/plain": [
       "9"
      ]
     },
     "execution_count": 65,
     "metadata": {},
     "output_type": "execute_result"
    }
   ],
   "source": [
    "slope_group_1 = getSlope(id_list_1)\n",
    "low, high = getIQR(slope_group_1)\n",
    "slope_group_1 = [num for num in slope_group_1 if num >= low and num <= high]\n",
    "len(slope_group_1)"
   ]
  },
  {
   "cell_type": "code",
   "execution_count": 66,
   "metadata": {},
   "outputs": [
    {
     "data": {
      "text/plain": [
       "54"
      ]
     },
     "execution_count": 66,
     "metadata": {},
     "output_type": "execute_result"
    }
   ],
   "source": [
    "slope_group_2 = getSlope(id_list_2)\n",
    "low, high = getIQR(slope_group_2)\n",
    "slope_group_2 = [num for num in slope_group_2 if num >= low and num <= high]\n",
    "len(slope_group_2)"
   ]
  },
  {
   "cell_type": "code",
   "execution_count": 67,
   "metadata": {},
   "outputs": [
    {
     "data": {
      "text/plain": [
       "56"
      ]
     },
     "execution_count": 67,
     "metadata": {},
     "output_type": "execute_result"
    }
   ],
   "source": [
    "slope_group_3 = getSlope(id_list_3)\n",
    "low, high = getIQR(slope_group_3)\n",
    "slope_group_3 = [num for num in slope_group_3 if num >= low and num <= high]\n",
    "len(slope_group_3)"
   ]
  },
  {
   "cell_type": "markdown",
   "metadata": {},
   "source": [
    "### Slope by Positive and Negative"
   ]
  },
  {
   "cell_type": "code",
   "execution_count": 68,
   "metadata": {},
   "outputs": [],
   "source": [
    "def slopeResult1(slope):\n",
    "    countPos = 0\n",
    "    for i in slope:\n",
    "        if(i >= 0):\n",
    "            countPos = countPos + 1\n",
    "    return([len(slope), countPos, len(slope) - countPos, round(countPos/len(slope)*100, 2)])"
   ]
  },
  {
   "cell_type": "code",
   "execution_count": 69,
   "metadata": {},
   "outputs": [],
   "source": [
    "slopeR1 = slopeResult1(slope_group_1)\n",
    "slopeR2 = slopeResult1(slope_group_2)\n",
    "slopeR3 = slopeResult1(slope_group_3)"
   ]
  },
  {
   "cell_type": "code",
   "execution_count": 70,
   "metadata": {},
   "outputs": [
    {
     "data": {
      "text/html": [
       "<div>\n",
       "<style scoped>\n",
       "    .dataframe tbody tr th:only-of-type {\n",
       "        vertical-align: middle;\n",
       "    }\n",
       "\n",
       "    .dataframe tbody tr th {\n",
       "        vertical-align: top;\n",
       "    }\n",
       "\n",
       "    .dataframe thead th {\n",
       "        text-align: right;\n",
       "    }\n",
       "</style>\n",
       "<table border=\"1\" class=\"dataframe\">\n",
       "  <thead>\n",
       "    <tr style=\"text-align: right;\">\n",
       "      <th></th>\n",
       "      <th>Group</th>\n",
       "      <th>Total</th>\n",
       "      <th>Maintained</th>\n",
       "      <th>Non-maintained</th>\n",
       "      <th>Percentage</th>\n",
       "    </tr>\n",
       "  </thead>\n",
       "  <tbody>\n",
       "    <tr>\n",
       "      <th>0</th>\n",
       "      <td>Simultaneous</td>\n",
       "      <td>54</td>\n",
       "      <td>21</td>\n",
       "      <td>33</td>\n",
       "      <td>38.89</td>\n",
       "    </tr>\n",
       "    <tr>\n",
       "      <th>1</th>\n",
       "      <td>Sequential</td>\n",
       "      <td>56</td>\n",
       "      <td>29</td>\n",
       "      <td>27</td>\n",
       "      <td>51.79</td>\n",
       "    </tr>\n",
       "    <tr>\n",
       "      <th>2</th>\n",
       "      <td>Control</td>\n",
       "      <td>9</td>\n",
       "      <td>4</td>\n",
       "      <td>5</td>\n",
       "      <td>44.44</td>\n",
       "    </tr>\n",
       "  </tbody>\n",
       "</table>\n",
       "</div>"
      ],
      "text/plain": [
       "          Group  Total  Maintained  Non-maintained  Percentage\n",
       "0  Simultaneous     54          21              33       38.89\n",
       "1    Sequential     56          29              27       51.79\n",
       "2       Control      9           4               5       44.44"
      ]
     },
     "execution_count": 70,
     "metadata": {},
     "output_type": "execute_result"
    }
   ],
   "source": [
    "group1 = ['Control'] + slopeR1\n",
    "group2 = ['Simultaneous'] + slopeR2\n",
    "group3 = ['Sequential'] + slopeR3\n",
    "\n",
    "pd.DataFrame([group2, group3, group1], columns=['Group', 'Total', 'Maintained','Non-maintained', 'Percentage'])"
   ]
  },
  {
   "cell_type": "code",
   "execution_count": 81,
   "metadata": {},
   "outputs": [
    {
     "name": "stderr",
     "output_type": "stream",
     "text": [
      "D:\\Anaconda\\lib\\site-packages\\ipykernel_launcher.py:20: UserWarning: Matplotlib is currently using module://ipykernel.pylab.backend_inline, which is a non-GUI backend, so cannot show the figure.\n"
     ]
    },
    {
     "data": {
      "image/png": "[encoded data removed]",
      "text/plain": [
       "<Figure size 1080x720 with 3 Axes>"
      ]
     },
     "metadata": {},
     "output_type": "display_data"
    }
   ],
   "source": [
    "#create labels \n",
    "df_month3_group1 = pd.DataFrame(['Maintainer'] * group1[2] + ['Non-Maintainer'] * group1[3], columns = ['Label'])\n",
    "df_month3_group2 = pd.DataFrame(['Maintainer'] * group2[2] + ['Non-Maintainer'] * group2[3], columns = ['Label'])\n",
    "df_month3_group3 = pd.DataFrame(['Maintainer'] * group3[2] + ['Non-Maintainer'] * group3[3], columns = ['Label'])\n",
    "\n",
    "#visualize\n",
    "fig, ax =plt.subplots(1,3)\n",
    "ax1, ax2, ax3 = ax.ravel()\n",
    "ax1 = sns.countplot(df_month3_group2['Label'], ax=ax[0], order=['Non-Maintainer','Maintainer'])\n",
    "ax2 = sns.countplot(df_month3_group3['Label'], ax=ax[1], order=['Non-Maintainer','Maintainer'])\n",
    "ax3 = sns.countplot(df_month3_group1['Label'], ax=ax[2], order=['Non-Maintainer','Maintainer'])\n",
    "ax1.set_ylim([0, 50])\n",
    "ax1.set_title(\"Simultaneous\")\n",
    "ax2.set_ylim([0, 50])\n",
    "ax2.set_title(\"Sequential\")\n",
    "ax3.set_ylim([0, 50])\n",
    "ax3.set_title(\"Control\")\n",
    "\n",
    "\n",
    "fig.show()"
   ]
  },
  {
   "cell_type": "markdown",
   "metadata": {},
   "source": [
    "### K-Means Cluster for Slopes"
   ]
  },
  {
   "cell_type": "code",
   "execution_count": 88,
   "metadata": {},
   "outputs": [],
   "source": [
    "from sklearn.cluster import KMeans\n",
    "from sklearn.metrics import silhouette_score, silhouette_samples\n",
    "\n",
    "def Kmeans(K, slope):\n",
    "    X = np.array(slope).reshape(-1, 1)\n",
    "    kmeans = KMeans(n_clusters=K, random_state=0).fit(X)\n",
    "    result_labels = kmeans.labels_\n",
    "    print(kmeans.cluster_centers_)\n",
    "    print('Number of cluster:', K, 'score:', silhouette_score(X, result_labels))\n",
    "    print('-----------------------------------------------------------------------')\n",
    "    num = []\n",
    "    for i in range(K):\n",
    "        print('Label:', i, list(result_labels).count(i)/len(result_labels)*100)\n",
    "        print('Label:', i, list(result_labels).count(i))\n",
    "        num.append(list(result_labels).count(i))\n",
    "    return X, result_labels, num"
   ]
  },
  {
   "cell_type": "code",
   "execution_count": 91,
   "metadata": {},
   "outputs": [
    {
     "name": "stdout",
     "output_type": "stream",
     "text": [
      "[[ 1.98924304]\n",
      " [-1.24242083]]\n",
      "Number of cluster: 2 score: 0.7037697249317213\n",
      "-----------------------------------------------------------------------\n",
      "Label: 0 33.33333333333333\n",
      "Label: 0 3\n",
      "Label: 1 66.66666666666666\n",
      "Label: 1 6\n"
     ]
    }
   ],
   "source": [
    "X, result_labels, num1 = Kmeans(2, slope_group_1)"
   ]
  },
  {
   "cell_type": "code",
   "execution_count": 92,
   "metadata": {},
   "outputs": [
    {
     "name": "stdout",
     "output_type": "stream",
     "text": [
      "[[-1.77967998]\n",
      " [ 4.83190112]]\n",
      "Number of cluster: 2 score: 0.6740164372942913\n",
      "-----------------------------------------------------------------------\n",
      "Label: 0 70.37037037037037\n",
      "Label: 0 38\n",
      "Label: 1 29.629629629629626\n",
      "Label: 1 16\n"
     ]
    }
   ],
   "source": [
    "X, result_labels, num2 = Kmeans(2, slope_group_2)"
   ]
  },
  {
   "cell_type": "code",
   "execution_count": 93,
   "metadata": {},
   "outputs": [
    {
     "name": "stdout",
     "output_type": "stream",
     "text": [
      "[[-2.03495562]\n",
      " [ 4.11255669]]\n",
      "Number of cluster: 2 score: 0.6263108345156831\n",
      "-----------------------------------------------------------------------\n",
      "Label: 0 51.78571428571429\n",
      "Label: 0 29\n",
      "Label: 1 48.214285714285715\n",
      "Label: 1 27\n"
     ]
    }
   ],
   "source": [
    "X, result_labels, num3 = Kmeans(2, slope_group_3)"
   ]
  },
  {
   "cell_type": "code",
   "execution_count": 94,
   "metadata": {},
   "outputs": [
    {
     "name": "stderr",
     "output_type": "stream",
     "text": [
      "D:\\Anaconda\\lib\\site-packages\\ipykernel_launcher.py:22: UserWarning: Matplotlib is currently using module://ipykernel.pylab.backend_inline, which is a non-GUI backend, so cannot show the figure.\n"
     ]
    },
    {
     "data": {
      "image/png": "[encoded data removed]",
      "text/plain": [
       "<Figure size 1080x720 with 3 Axes>"
      ]
     },
     "metadata": {},
     "output_type": "display_data"
    }
   ],
   "source": [
    "#visualize the result\n",
    "\n",
    "#create labels \n",
    "df_month3_group1 = pd.DataFrame(['Maintainer'] * num1[0] + ['Non-Maintainer'] * num1[1], columns = ['Label'])\n",
    "df_month3_group2 = pd.DataFrame(['Maintainer'] * num2[1] + ['Non-Maintainer'] * num2[0], columns = ['Label'])\n",
    "df_month3_group3 = pd.DataFrame(['Maintainer'] * num3[1] + ['Non-Maintainer'] * num3[0], columns = ['Label'])\n",
    "\n",
    "#visualize\n",
    "fig, ax =plt.subplots(1,3)\n",
    "ax1, ax2, ax3 = ax.ravel()\n",
    "ax1 = sns.countplot(df_month3_group2['Label'], ax=ax[0], order=['Non-Maintainer','Maintainer'])\n",
    "ax2 = sns.countplot(df_month3_group3['Label'], ax=ax[1], order=['Non-Maintainer','Maintainer'])\n",
    "ax3 = sns.countplot(df_month3_group1['Label'], ax=ax[2], order=['Non-Maintainer','Maintainer'])\n",
    "ax1.set_ylim([0, 50])\n",
    "ax1.set_title(\"Simultaneous\")\n",
    "ax2.set_ylim([0, 50])\n",
    "ax2.set_title(\"Sequential\")\n",
    "ax3.set_ylim([0, 50])\n",
    "ax3.set_title(\"Control\")\n",
    "\n",
    "\n",
    "fig.show()"
   ]
  },
  {
   "cell_type": "code",
   "execution_count": 99,
   "metadata": {},
   "outputs": [
    {
     "data": {
      "text/plain": [
       "[9, 3, 6, 33.33]"
      ]
     },
     "execution_count": 99,
     "metadata": {},
     "output_type": "execute_result"
    }
   ],
   "source": [
    "def getResult(m, nonm):\n",
    "    Total = m + nonm\n",
    "    Maintained = m\n",
    "    Non_maintained = nonm\n",
    "    Percentage = round(Maintained/(Maintained+Non_maintained)*100, 2)\n",
    "    return([Total, Maintained,Non_maintained, Percentage])"
   ]
  },
  {
   "cell_type": "code",
   "execution_count": 100,
   "metadata": {},
   "outputs": [
    {
     "data": {
      "text/html": [
       "<div>\n",
       "<style scoped>\n",
       "    .dataframe tbody tr th:only-of-type {\n",
       "        vertical-align: middle;\n",
       "    }\n",
       "\n",
       "    .dataframe tbody tr th {\n",
       "        vertical-align: top;\n",
       "    }\n",
       "\n",
       "    .dataframe thead th {\n",
       "        text-align: right;\n",
       "    }\n",
       "</style>\n",
       "<table border=\"1\" class=\"dataframe\">\n",
       "  <thead>\n",
       "    <tr style=\"text-align: right;\">\n",
       "      <th></th>\n",
       "      <th>Group</th>\n",
       "      <th>Total</th>\n",
       "      <th>Maintained</th>\n",
       "      <th>Non-maintained</th>\n",
       "      <th>Percentage</th>\n",
       "    </tr>\n",
       "  </thead>\n",
       "  <tbody>\n",
       "    <tr>\n",
       "      <th>0</th>\n",
       "      <td>Simultaneous</td>\n",
       "      <td>54</td>\n",
       "      <td>16</td>\n",
       "      <td>38</td>\n",
       "      <td>29.63</td>\n",
       "    </tr>\n",
       "    <tr>\n",
       "      <th>1</th>\n",
       "      <td>Sequential</td>\n",
       "      <td>56</td>\n",
       "      <td>27</td>\n",
       "      <td>29</td>\n",
       "      <td>48.21</td>\n",
       "    </tr>\n",
       "    <tr>\n",
       "      <th>2</th>\n",
       "      <td>Control</td>\n",
       "      <td>9</td>\n",
       "      <td>3</td>\n",
       "      <td>6</td>\n",
       "      <td>33.33</td>\n",
       "    </tr>\n",
       "  </tbody>\n",
       "</table>\n",
       "</div>"
      ],
      "text/plain": [
       "          Group  Total  Maintained  Non-maintained  Percentage\n",
       "0  Simultaneous     54          16              38       29.63\n",
       "1    Sequential     56          27              29       48.21\n",
       "2       Control      9           3               6       33.33"
      ]
     },
     "execution_count": 100,
     "metadata": {},
     "output_type": "execute_result"
    }
   ],
   "source": [
    "slopeR1 = getResult(num1[0],num1[1])\n",
    "slopeR2 = getResult(num2[1],num2[0])\n",
    "slopeR3 = getResult(num3[1],num3[0])\n",
    "\n",
    "group1 = ['Control'] + slopeR1\n",
    "group2 = ['Simultaneous'] + slopeR2\n",
    "group3 = ['Sequential'] + slopeR3\n",
    "\n",
    "pd.DataFrame([group2, group3, group1], columns=['Group', 'Total', 'Maintained','Non-maintained', 'Percentage'])"
   ]
  },
  {
   "cell_type": "markdown",
   "metadata": {},
   "source": [
    "### Visualize Clusters"
   ]
  },
  {
   "cell_type": "code",
   "execution_count": 277,
   "metadata": {},
   "outputs": [],
   "source": [
    "x = list(X.ravel())"
   ]
  },
  {
   "cell_type": "code",
   "execution_count": 101,
   "metadata": {},
   "outputs": [
    {
     "data": {
      "image/png": "[encoded data removed]",
      "text/plain": [
       "<Figure size 1080x720 with 1 Axes>"
      ]
     },
     "metadata": {},
     "output_type": "display_data"
    }
   ],
   "source": [
    "x = list(X.ravel())\n",
    "result_labels_color = []\n",
    "for i in result_labels:\n",
    "    if i == 0:\n",
    "        result_labels_color.append('red')\n",
    "    elif i == 1:\n",
    "        result_labels_color.append('blue')\n",
    "    elif i == 2:\n",
    "        result_labels_color.append('green')\n",
    "    elif i == 3:\n",
    "        result_labels_color.append('yellow')\n",
    "dummyY = [1]* len(x)\n",
    "plt.scatter(x, dummyY, c=result_labels_color)\n",
    "plt.show()"
   ]
  },
  {
   "cell_type": "markdown",
   "metadata": {},
   "source": [
    "### Agglomerative Cluster for Slopes"
   ]
  },
  {
   "cell_type": "code",
   "execution_count": 83,
   "metadata": {},
   "outputs": [
    {
     "name": "stdout",
     "output_type": "stream",
     "text": [
      "Number of cluster: 2 score: 0.6635824851586628\n",
      "-----------------------------------------------------------------------\n",
      "Label: 0 68.65671641791045\n",
      "Label: 0 46\n",
      "Label: 1 31.343283582089555\n",
      "Label: 1 21\n"
     ]
    }
   ],
   "source": [
    "from sklearn.cluster import AgglomerativeClustering\n",
    "\n",
    "K = 2\n",
    "cluster = AgglomerativeClustering(n_clusters=K).fit(X)\n",
    "result_labels = cluster.labels_\n",
    "#print(cluster.cluster_centers_)\n",
    "print('Number of cluster:', K, 'score:', silhouette_score(X, result_labels))\n",
    "print('-----------------------------------------------------------------------')\n",
    "for i in range(K):\n",
    "    print('Label:', i, list(result_labels).count(i)/len(result_labels)*100)\n",
    "    print('Label:', i, list(result_labels).count(i))"
   ]
  },
  {
   "cell_type": "code",
   "execution_count": 78,
   "metadata": {},
   "outputs": [
    {
     "data": {
      "text/plain": [
       "array([0, 0, 1, 0, 0, 0, 1, 0, 0, 0, 0, 1, 1, 1, 0, 0, 1, 0, 0, 0, 1, 0,\n",
       "       0, 0, 0, 0, 0, 0, 1, 0, 0, 0, 0, 1, 0, 0, 1, 0, 0, 0, 0, 1, 1, 0,\n",
       "       1, 0, 0, 0, 1, 1, 1, 1, 0, 0, 0, 1, 1, 0, 0, 0, 1, 0, 0, 0, 0, 1,\n",
       "       0], dtype=int64)"
      ]
     },
     "execution_count": 78,
     "metadata": {},
     "output_type": "execute_result"
    }
   ],
   "source": [
    "cluster.labels_"
   ]
  },
  {
   "cell_type": "markdown",
   "metadata": {},
   "source": [
    "### Hierarchical Cluster"
   ]
  },
  {
   "cell_type": "code",
   "execution_count": 84,
   "metadata": {},
   "outputs": [],
   "source": [
    "import scipy.cluster.hierarchy as sch"
   ]
  },
  {
   "cell_type": "code",
   "execution_count": 86,
   "metadata": {},
   "outputs": [
    {
     "data": {
      "image/png": "[encoded data removed]",
      "text/plain": [
       "<Figure size 1080x720 with 1 Axes>"
      ]
     },
     "metadata": {},
     "output_type": "display_data"
    }
   ],
   "source": [
    "dendrogram = sch.dendrogram(sch.linkage(X, method  = \"ward\"))\n",
    "plt.title('Dendrogram')\n",
    "plt.xlabel('Slope')\n",
    "plt.ylabel('Euclidean distances')\n",
    "plt.show()"
   ]
  },
  {
   "attachments": {},
   "cell_type": "markdown",
   "metadata": {},
   "source": [
    "## Maintenance Definition (Traditional (lax criterion)): \n",
    "#### MVPA from intervention (3 month) and end of follow-up (9 month)\n",
    "#### If participants reached 150 MVPA level"
   ]
  },
  {
   "cell_type": "code",
   "execution_count": 16,
   "metadata": {},
   "outputs": [
    {
     "name": "stdout",
     "output_type": "stream",
     "text": [
      "Total number of participants that have records at month 3 and 9 is: 124\n"
     ]
    }
   ],
   "source": [
    "# refine user's upload week to contain either week 12/13/14 (month 3)\n",
    "df_0 = df_weekly[df_weekly['upload_week'] == 12]\n",
    "df_1 = df_weekly[df_weekly['upload_week'] == 13]\n",
    "df_2 = df_weekly[df_weekly['upload_week'] == 14]\n",
    "\n",
    "# refine user's upload week to contain either week 38/39/40 (month 9)\n",
    "df_12 = df_weekly[df_weekly['upload_week'] == 38]\n",
    "df_13 = df_weekly[df_weekly['upload_week'] == 39]\n",
    "df_14 = df_weekly[df_weekly['upload_week'] == 40]\n",
    "\n",
    "id_list1 = set(list(df_0['user_id']) + list(df_1['user_id']) + list(df_2['user_id']))\n",
    "id_list2 = set(list(df_12['user_id']) + list(df_13['user_id']) + list(df_14['user_id']))\n",
    "\n",
    "               \n",
    "def intersection(lst1, lst2): \n",
    "    return list(set(lst1) & set(lst2)) \n",
    "\n",
    "id_list = intersection(id_list1,id_list2)\n",
    "print('Total number of participants that have records at month 3 and 9 is:', str(len(id_list)))"
   ]
  },
  {
   "cell_type": "code",
   "execution_count": 17,
   "metadata": {},
   "outputs": [],
   "source": [
    "users_before = list(set(list(df_weekly['user_id'])))\n",
    "users_after = id_list\n",
    "users_raw = list(set(list(df_pa['user_id'])))"
   ]
  },
  {
   "cell_type": "code",
   "execution_count": 21,
   "metadata": {},
   "outputs": [],
   "source": [
    "#0: baseline 1:control 2:simutaneous 3:sequential\n",
    "user_group_before = {\n",
    "    1:0,\n",
    "    2:0,\n",
    "    3:0\n",
    "}\n",
    "\n",
    "user_group_after = {\n",
    "    1:0,\n",
    "    2:0,\n",
    "    3:0\n",
    "}\n",
    "\n",
    "for ids in users_before:\n",
    "    group = df_user_info[df_user_info['user_id'] == ids]['group'].values[0]\n",
    "    user_group_before[group] = user_group_before[group] + 1\n",
    "\n",
    "for ids in users_after:\n",
    "    group = df_user_info[df_user_info['user_id'] == ids]['group'].values[0]\n",
    "    user_group_after[group] = user_group_after[group] + 1"
   ]
  },
  {
   "cell_type": "code",
   "execution_count": 22,
   "metadata": {},
   "outputs": [
    {
     "data": {
      "text/plain": [
       "{1: 33, 2: 83, 3: 83}"
      ]
     },
     "execution_count": 22,
     "metadata": {},
     "output_type": "execute_result"
    }
   ],
   "source": [
    "user_group_before"
   ]
  },
  {
   "cell_type": "code",
   "execution_count": 23,
   "metadata": {},
   "outputs": [
    {
     "data": {
      "text/plain": [
       "{1: 11, 2: 55, 3: 58}"
      ]
     },
     "execution_count": 23,
     "metadata": {},
     "output_type": "execute_result"
    }
   ],
   "source": [
    "user_group_after"
   ]
  },
  {
   "cell_type": "markdown",
   "metadata": {},
   "source": [
    "#### Get valid users from 3 groups "
   ]
  },
  {
   "cell_type": "code",
   "execution_count": 24,
   "metadata": {},
   "outputs": [],
   "source": [
    "month3 = [12,13,14]\n",
    "month9 = [38,39,40]"
   ]
  },
  {
   "cell_type": "code",
   "execution_count": 25,
   "metadata": {},
   "outputs": [],
   "source": [
    "df_valid = df_weekly[df_weekly['user_id'].isin(users_after)]\n",
    "df_month3 = df_valid[df_valid['upload_week'].isin(month3)]\n",
    "df_month9 = df_valid[df_valid['upload_week'].isin(month9)]"
   ]
  },
  {
   "cell_type": "code",
   "execution_count": 26,
   "metadata": {},
   "outputs": [
    {
     "data": {
      "text/plain": [
       "124"
      ]
     },
     "execution_count": 26,
     "metadata": {},
     "output_type": "execute_result"
    }
   ],
   "source": [
    "len(set(df_valid['user_id']))"
   ]
  },
  {
   "cell_type": "code",
   "execution_count": 27,
   "metadata": {},
   "outputs": [],
   "source": [
    "#get three weeks' average at month 3 and 9\n",
    "df_month3_avg = ps.sqldf(\"select user_id, AVG(PA_Min_AVG) as MVPA_avg from df_month3 group by user_id\")\n",
    "df_month9_avg = ps.sqldf(\"select user_id, AVG(PA_Min_AVG) as MVPA_avg from df_month9 group by user_id\")\n",
    "\n",
    "#append groups \n",
    "df_month3_avg = pd.merge(df_month3_avg, df_user_info, how='left', on=['user_id'])\n",
    "df_month9_avg = pd.merge(df_month9_avg, df_user_info, how='left', on=['user_id'])"
   ]
  },
  {
   "cell_type": "code",
   "execution_count": 36,
   "metadata": {},
   "outputs": [],
   "source": [
    "def showAll(df_month3_avg):\n",
    "    #get groups\n",
    "    df_month3_group1 = df_month3_avg[df_month3_avg['group'] == 1]\n",
    "    df_month3_group2 = df_month3_avg[df_month3_avg['group'] == 2]\n",
    "    df_month3_group3 = df_month3_avg[df_month3_avg['group'] == 3]\n",
    "    \n",
    "    #create labels \n",
    "    df_month3_group1['Label'] = ['Non-Maintainer' if x < 150 else 'Maintainer' for x in df_month3_group1['MVPA_avg']]\n",
    "    df_month3_group2['Label'] = ['Non-Maintainer' if x < 150 else 'Maintainer' for x in df_month3_group2['MVPA_avg']]\n",
    "    df_month3_group3['Label'] = ['Non-Maintainer' if x < 150 else 'Maintainer' for x in df_month3_group3['MVPA_avg']]\n",
    "    \n",
    "    #visualize\n",
    "    fig, ax =plt.subplots(1,3)\n",
    "    ax1, ax2, ax3 = ax.ravel()\n",
    "    ax1 = sns.countplot(df_month3_group2['Label'], ax=ax[0], order=['Non-Maintainer','Maintainer'])\n",
    "    ax2 = sns.countplot(df_month3_group3['Label'], ax=ax[1], order=['Non-Maintainer','Maintainer'])\n",
    "    ax3 = sns.countplot(df_month3_group1['Label'], ax=ax[2], order=['Non-Maintainer','Maintainer'])\n",
    "    ax1.set_ylim([0, 50])\n",
    "    ax1.set_title(\"Simultaneous\")\n",
    "    ax2.set_ylim([0, 50])\n",
    "    ax2.set_title(\"Sequential\")\n",
    "    ax3.set_ylim([0, 50])\n",
    "    ax3.set_title(\"Control\")\n",
    "    \n",
    "    \n",
    "    fig.show()"
   ]
  },
  {
   "cell_type": "code",
   "execution_count": 37,
   "metadata": {},
   "outputs": [
    {
     "name": "stderr",
     "output_type": "stream",
     "text": [
      "D:\\Anaconda\\lib\\site-packages\\ipykernel_launcher.py:8: SettingWithCopyWarning: \n",
      "A value is trying to be set on a copy of a slice from a DataFrame.\n",
      "Try using .loc[row_indexer,col_indexer] = value instead\n",
      "\n",
      "See the caveats in the documentation: https://pandas.pydata.org/pandas-docs/stable/user_guide/indexing.html#returning-a-view-versus-a-copy\n",
      "  \n",
      "D:\\Anaconda\\lib\\site-packages\\ipykernel_launcher.py:9: SettingWithCopyWarning: \n",
      "A value is trying to be set on a copy of a slice from a DataFrame.\n",
      "Try using .loc[row_indexer,col_indexer] = value instead\n",
      "\n",
      "See the caveats in the documentation: https://pandas.pydata.org/pandas-docs/stable/user_guide/indexing.html#returning-a-view-versus-a-copy\n",
      "  if __name__ == '__main__':\n",
      "D:\\Anaconda\\lib\\site-packages\\ipykernel_launcher.py:10: SettingWithCopyWarning: \n",
      "A value is trying to be set on a copy of a slice from a DataFrame.\n",
      "Try using .loc[row_indexer,col_indexer] = value instead\n",
      "\n",
      "See the caveats in the documentation: https://pandas.pydata.org/pandas-docs/stable/user_guide/indexing.html#returning-a-view-versus-a-copy\n",
      "  # Remove the CWD from sys.path while we load stuff.\n",
      "D:\\Anaconda\\lib\\site-packages\\ipykernel_launcher.py:26: UserWarning: Matplotlib is currently using module://ipykernel.pylab.backend_inline, which is a non-GUI backend, so cannot show the figure.\n"
     ]
    },
    {
     "data": {
      "image/png": "[encoded data removed]",
      "text/plain": [
       "<Figure size 1080x720 with 3 Axes>"
      ]
     },
     "metadata": {},
     "output_type": "display_data"
    }
   ],
   "source": [
    "showAll(df_month9_avg)"
   ]
  },
  {
   "cell_type": "code",
   "execution_count": 38,
   "metadata": {},
   "outputs": [],
   "source": [
    "###Number of Maintainers\n",
    "def get_M_number(df_month3_avg):\n",
    "    df_month3_group1 = df_month3_avg[df_month3_avg['group'] == 1]\n",
    "    df_month3_group2 = df_month3_avg[df_month3_avg['group'] == 2]\n",
    "    df_month3_group3 = df_month3_avg[df_month3_avg['group'] == 3]\n",
    "    \n",
    "    #get number of maintained vs non-maintained\n",
    "    m1 = len(df_month3_group1[df_month3_group1['MVPA_avg']>=150])\n",
    "    nm1 = len(df_month3_group1[df_month3_group1['MVPA_avg']<150])\n",
    "    p1 = round(m1 / (m1+nm1) * 100, 2)\n",
    "    m2 = len(df_month3_group2[df_month3_group2['MVPA_avg']>=150])\n",
    "    nm2 = len(df_month3_group2[df_month3_group2['MVPA_avg']<150])\n",
    "    p2 = round(m2 / (m2+nm2) * 100, 2)\n",
    "    m3 = len(df_month3_group3[df_month3_group3['MVPA_avg']>=150])\n",
    "    nm3 = len(df_month3_group3[df_month3_group3['MVPA_avg']<150])\n",
    "    p3 = round(m3 / (m3+nm3) * 100, 2)\n",
    "    \n",
    "    group1 = ['Control'] + [m1, nm1, p1]\n",
    "    group2 = ['Simultaneous'] + [m2, nm2, p2]\n",
    "    group3 = ['Sequential'] + [m3, nm3, p3]\n",
    "    \n",
    "    return(pd.DataFrame([group2, group3, group1], columns=['Group','Maintained','Non-maintained', 'Percentage']))"
   ]
  },
  {
   "cell_type": "code",
   "execution_count": 40,
   "metadata": {},
   "outputs": [
    {
     "data": {
      "text/html": [
       "<div>\n",
       "<style scoped>\n",
       "    .dataframe tbody tr th:only-of-type {\n",
       "        vertical-align: middle;\n",
       "    }\n",
       "\n",
       "    .dataframe tbody tr th {\n",
       "        vertical-align: top;\n",
       "    }\n",
       "\n",
       "    .dataframe thead th {\n",
       "        text-align: right;\n",
       "    }\n",
       "</style>\n",
       "<table border=\"1\" class=\"dataframe\">\n",
       "  <thead>\n",
       "    <tr style=\"text-align: right;\">\n",
       "      <th></th>\n",
       "      <th>Group</th>\n",
       "      <th>Maintained</th>\n",
       "      <th>Non-maintained</th>\n",
       "      <th>Percentage</th>\n",
       "    </tr>\n",
       "  </thead>\n",
       "  <tbody>\n",
       "    <tr>\n",
       "      <th>0</th>\n",
       "      <td>Simultaneous</td>\n",
       "      <td>42</td>\n",
       "      <td>13</td>\n",
       "      <td>76.36</td>\n",
       "    </tr>\n",
       "    <tr>\n",
       "      <th>1</th>\n",
       "      <td>Sequential</td>\n",
       "      <td>44</td>\n",
       "      <td>14</td>\n",
       "      <td>75.86</td>\n",
       "    </tr>\n",
       "    <tr>\n",
       "      <th>2</th>\n",
       "      <td>Control</td>\n",
       "      <td>5</td>\n",
       "      <td>6</td>\n",
       "      <td>45.45</td>\n",
       "    </tr>\n",
       "  </tbody>\n",
       "</table>\n",
       "</div>"
      ],
      "text/plain": [
       "          Group  Maintained  Non-maintained  Percentage\n",
       "0  Simultaneous          42              13       76.36\n",
       "1    Sequential          44              14       75.86\n",
       "2       Control           5               6       45.45"
      ]
     },
     "execution_count": 40,
     "metadata": {},
     "output_type": "execute_result"
    }
   ],
   "source": [
    "get_M_number(df_month9_avg)"
   ]
  },
  {
   "cell_type": "markdown",
   "metadata": {},
   "source": [
    "### Statistical Results"
   ]
  },
  {
   "cell_type": "code",
   "execution_count": 43,
   "metadata": {},
   "outputs": [],
   "source": [
    "def Stats(df, column):\n",
    "    l = list(df[column])\n",
    "    for i in range(0, len(l)): \n",
    "        l[i] = float(l[i])\n",
    "    Max = np.max(l)\n",
    "    Min = np.min(l)\n",
    "    Mean = np.mean(l)\n",
    "    Median = np.median(l)\n",
    "    STD = np.std(l)\n",
    "    \n",
    "    #outlier percentage\n",
    "    q1 = np.percentile(l, 25)  \n",
    "    q3 = np.percentile(l, 75)\n",
    "    IQR = q3-q1\n",
    "    low = q1 - 1.5*IQR\n",
    "    high = q3+1.5*IQR\n",
    "    outlierNum = len([i for i in l if i < low or i > high])\n",
    "    outliersPercent = len([i for i in l if i < low or i > high]) / len(l) * 100\n",
    "    return([Min, Max, Mean, Median, STD, outlierNum, outliersPercent])"
   ]
  },
  {
   "cell_type": "code",
   "execution_count": 44,
   "metadata": {},
   "outputs": [],
   "source": [
    "def getStats(df_month3_avg):\n",
    "    df_month3_group1 = df_month3_avg[df_month3_avg['group'] == 1]\n",
    "    df_month3_group2 = df_month3_avg[df_month3_avg['group'] == 2]\n",
    "    df_month3_group3 = df_month3_avg[df_month3_avg['group'] == 3]\n",
    "    group1_Stats = ['Control'] + [df_month3_group1.shape[0]] + Stats(df_month3_group1, 'MVPA_avg')\n",
    "    group2_Stats = ['Simultaneous'] + [df_month3_group2.shape[0]] + Stats(df_month3_group2, 'MVPA_avg')\n",
    "    group3_Stats = ['Sequential'] + [df_month3_group3.shape[0]] + Stats(df_month3_group3, 'MVPA_avg')\n",
    "    allList = [group1_Stats,group2_Stats,group3_Stats]\n",
    "    return(pd.DataFrame(allList, columns=['Group', 'Participant Number','Min', 'Max', 'Mean', 'Median', 'Standard Deviation', 'Outlier Number', 'Outlier Percentage (IQR)']))"
   ]
  },
  {
   "cell_type": "code",
   "execution_count": 45,
   "metadata": {},
   "outputs": [
    {
     "data": {
      "text/html": [
       "<div>\n",
       "<style scoped>\n",
       "    .dataframe tbody tr th:only-of-type {\n",
       "        vertical-align: middle;\n",
       "    }\n",
       "\n",
       "    .dataframe tbody tr th {\n",
       "        vertical-align: top;\n",
       "    }\n",
       "\n",
       "    .dataframe thead th {\n",
       "        text-align: right;\n",
       "    }\n",
       "</style>\n",
       "<table border=\"1\" class=\"dataframe\">\n",
       "  <thead>\n",
       "    <tr style=\"text-align: right;\">\n",
       "      <th></th>\n",
       "      <th>Group</th>\n",
       "      <th>Participant Number</th>\n",
       "      <th>Min</th>\n",
       "      <th>Max</th>\n",
       "      <th>Mean</th>\n",
       "      <th>Median</th>\n",
       "      <th>Standard Deviation</th>\n",
       "      <th>Outlier Number</th>\n",
       "      <th>Outlier Percentage (IQR)</th>\n",
       "    </tr>\n",
       "  </thead>\n",
       "  <tbody>\n",
       "    <tr>\n",
       "      <th>0</th>\n",
       "      <td>Control</td>\n",
       "      <td>11</td>\n",
       "      <td>9.333333</td>\n",
       "      <td>579.250000</td>\n",
       "      <td>155.792424</td>\n",
       "      <td>114.916667</td>\n",
       "      <td>150.566822</td>\n",
       "      <td>1</td>\n",
       "      <td>9.090909</td>\n",
       "    </tr>\n",
       "    <tr>\n",
       "      <th>1</th>\n",
       "      <td>Simultaneous</td>\n",
       "      <td>55</td>\n",
       "      <td>52.500000</td>\n",
       "      <td>586.555556</td>\n",
       "      <td>266.327626</td>\n",
       "      <td>248.500000</td>\n",
       "      <td>113.795727</td>\n",
       "      <td>1</td>\n",
       "      <td>1.818182</td>\n",
       "    </tr>\n",
       "    <tr>\n",
       "      <th>2</th>\n",
       "      <td>Sequential</td>\n",
       "      <td>58</td>\n",
       "      <td>23.333333</td>\n",
       "      <td>497.388889</td>\n",
       "      <td>225.654310</td>\n",
       "      <td>199.722222</td>\n",
       "      <td>96.344920</td>\n",
       "      <td>1</td>\n",
       "      <td>1.724138</td>\n",
       "    </tr>\n",
       "  </tbody>\n",
       "</table>\n",
       "</div>"
      ],
      "text/plain": [
       "          Group  Participant Number        Min         Max        Mean  \\\n",
       "0       Control                  11   9.333333  579.250000  155.792424   \n",
       "1  Simultaneous                  55  52.500000  586.555556  266.327626   \n",
       "2    Sequential                  58  23.333333  497.388889  225.654310   \n",
       "\n",
       "       Median  Standard Deviation  Outlier Number  Outlier Percentage (IQR)  \n",
       "0  114.916667          150.566822               1                  9.090909  \n",
       "1  248.500000          113.795727               1                  1.818182  \n",
       "2  199.722222           96.344920               1                  1.724138  "
      ]
     },
     "execution_count": 45,
     "metadata": {},
     "output_type": "execute_result"
    }
   ],
   "source": [
    "getStats(df_month3_avg)"
   ]
  },
  {
   "cell_type": "code",
   "execution_count": 46,
   "metadata": {},
   "outputs": [
    {
     "data": {
      "text/html": [
       "<div>\n",
       "<style scoped>\n",
       "    .dataframe tbody tr th:only-of-type {\n",
       "        vertical-align: middle;\n",
       "    }\n",
       "\n",
       "    .dataframe tbody tr th {\n",
       "        vertical-align: top;\n",
       "    }\n",
       "\n",
       "    .dataframe thead th {\n",
       "        text-align: right;\n",
       "    }\n",
       "</style>\n",
       "<table border=\"1\" class=\"dataframe\">\n",
       "  <thead>\n",
       "    <tr style=\"text-align: right;\">\n",
       "      <th></th>\n",
       "      <th>Group</th>\n",
       "      <th>Participant Number</th>\n",
       "      <th>Min</th>\n",
       "      <th>Max</th>\n",
       "      <th>Mean</th>\n",
       "      <th>Median</th>\n",
       "      <th>Standard Deviation</th>\n",
       "      <th>Outlier Number</th>\n",
       "      <th>Outlier Percentage (IQR)</th>\n",
       "    </tr>\n",
       "  </thead>\n",
       "  <tbody>\n",
       "    <tr>\n",
       "      <th>0</th>\n",
       "      <td>Control</td>\n",
       "      <td>11</td>\n",
       "      <td>14.00</td>\n",
       "      <td>374.500</td>\n",
       "      <td>150.765152</td>\n",
       "      <td>105.000000</td>\n",
       "      <td>106.156283</td>\n",
       "      <td>0</td>\n",
       "      <td>0.000000</td>\n",
       "    </tr>\n",
       "    <tr>\n",
       "      <th>1</th>\n",
       "      <td>Simultaneous</td>\n",
       "      <td>55</td>\n",
       "      <td>78.05</td>\n",
       "      <td>670.250</td>\n",
       "      <td>251.148182</td>\n",
       "      <td>213.888889</td>\n",
       "      <td>139.374806</td>\n",
       "      <td>4</td>\n",
       "      <td>7.272727</td>\n",
       "    </tr>\n",
       "    <tr>\n",
       "      <th>2</th>\n",
       "      <td>Sequential</td>\n",
       "      <td>58</td>\n",
       "      <td>52.50</td>\n",
       "      <td>501.375</td>\n",
       "      <td>232.316379</td>\n",
       "      <td>210.000000</td>\n",
       "      <td>110.953931</td>\n",
       "      <td>0</td>\n",
       "      <td>0.000000</td>\n",
       "    </tr>\n",
       "  </tbody>\n",
       "</table>\n",
       "</div>"
      ],
      "text/plain": [
       "          Group  Participant Number    Min      Max        Mean      Median  \\\n",
       "0       Control                  11  14.00  374.500  150.765152  105.000000   \n",
       "1  Simultaneous                  55  78.05  670.250  251.148182  213.888889   \n",
       "2    Sequential                  58  52.50  501.375  232.316379  210.000000   \n",
       "\n",
       "   Standard Deviation  Outlier Number  Outlier Percentage (IQR)  \n",
       "0          106.156283               0                  0.000000  \n",
       "1          139.374806               4                  7.272727  \n",
       "2          110.953931               0                  0.000000  "
      ]
     },
     "execution_count": 46,
     "metadata": {},
     "output_type": "execute_result"
    }
   ],
   "source": [
    "getStats(df_month9_avg)"
   ]
  },
  {
   "attachments": {},
   "cell_type": "markdown",
   "metadata": {},
   "source": [
    "## Maintenance Definition (Public Health Guideline): \n",
    "#### MVPA from intervention (3 month) and end of follow-up (9 month)\n",
    "#### If participants shows less than 10% decrease in MVPA"
   ]
  },
  {
   "cell_type": "code",
   "execution_count": 48,
   "metadata": {},
   "outputs": [
    {
     "data": {
      "text/html": [
       "<div>\n",
       "<style scoped>\n",
       "    .dataframe tbody tr th:only-of-type {\n",
       "        vertical-align: middle;\n",
       "    }\n",
       "\n",
       "    .dataframe tbody tr th {\n",
       "        vertical-align: top;\n",
       "    }\n",
       "\n",
       "    .dataframe thead th {\n",
       "        text-align: right;\n",
       "    }\n",
       "</style>\n",
       "<table border=\"1\" class=\"dataframe\">\n",
       "  <thead>\n",
       "    <tr style=\"text-align: right;\">\n",
       "      <th></th>\n",
       "      <th>user_id</th>\n",
       "      <th>MVPA_avg</th>\n",
       "      <th>group</th>\n",
       "    </tr>\n",
       "  </thead>\n",
       "  <tbody>\n",
       "    <tr>\n",
       "      <th>0</th>\n",
       "      <td>1</td>\n",
       "      <td>120.800000</td>\n",
       "      <td>2</td>\n",
       "    </tr>\n",
       "    <tr>\n",
       "      <th>1</th>\n",
       "      <td>7</td>\n",
       "      <td>110.444444</td>\n",
       "      <td>3</td>\n",
       "    </tr>\n",
       "    <tr>\n",
       "      <th>2</th>\n",
       "      <td>9</td>\n",
       "      <td>291.555556</td>\n",
       "      <td>2</td>\n",
       "    </tr>\n",
       "    <tr>\n",
       "      <th>3</th>\n",
       "      <td>13</td>\n",
       "      <td>248.500000</td>\n",
       "      <td>2</td>\n",
       "    </tr>\n",
       "    <tr>\n",
       "      <th>4</th>\n",
       "      <td>14</td>\n",
       "      <td>52.500000</td>\n",
       "      <td>2</td>\n",
       "    </tr>\n",
       "    <tr>\n",
       "      <th>...</th>\n",
       "      <td>...</td>\n",
       "      <td>...</td>\n",
       "      <td>...</td>\n",
       "    </tr>\n",
       "    <tr>\n",
       "      <th>119</th>\n",
       "      <td>553</td>\n",
       "      <td>174.333333</td>\n",
       "      <td>2</td>\n",
       "    </tr>\n",
       "    <tr>\n",
       "      <th>120</th>\n",
       "      <td>568</td>\n",
       "      <td>169.777778</td>\n",
       "      <td>2</td>\n",
       "    </tr>\n",
       "    <tr>\n",
       "      <th>121</th>\n",
       "      <td>569</td>\n",
       "      <td>382.250000</td>\n",
       "      <td>3</td>\n",
       "    </tr>\n",
       "    <tr>\n",
       "      <th>122</th>\n",
       "      <td>583</td>\n",
       "      <td>189.777778</td>\n",
       "      <td>2</td>\n",
       "    </tr>\n",
       "    <tr>\n",
       "      <th>123</th>\n",
       "      <td>596</td>\n",
       "      <td>434.000000</td>\n",
       "      <td>3</td>\n",
       "    </tr>\n",
       "  </tbody>\n",
       "</table>\n",
       "<p>124 rows × 3 columns</p>\n",
       "</div>"
      ],
      "text/plain": [
       "     user_id    MVPA_avg  group\n",
       "0          1  120.800000      2\n",
       "1          7  110.444444      3\n",
       "2          9  291.555556      2\n",
       "3         13  248.500000      2\n",
       "4         14   52.500000      2\n",
       "..       ...         ...    ...\n",
       "119      553  174.333333      2\n",
       "120      568  169.777778      2\n",
       "121      569  382.250000      3\n",
       "122      583  189.777778      2\n",
       "123      596  434.000000      3\n",
       "\n",
       "[124 rows x 3 columns]"
      ]
     },
     "execution_count": 48,
     "metadata": {},
     "output_type": "execute_result"
    }
   ],
   "source": [
    "df_month3_avg"
   ]
  },
  {
   "cell_type": "code",
   "execution_count": 49,
   "metadata": {},
   "outputs": [
    {
     "data": {
      "text/plain": [
       "(124, 3)"
      ]
     },
     "execution_count": 49,
     "metadata": {},
     "output_type": "execute_result"
    }
   ],
   "source": [
    "df_month9_avg.shape"
   ]
  },
  {
   "cell_type": "code",
   "execution_count": 50,
   "metadata": {},
   "outputs": [],
   "source": [
    "#combine month 3 and 9\n",
    "df_month_39 = ps.sqldf('select d1.user_id as user_id, d1.MVPA_avg as MVPA_Month3, d2.MVPA_avg as MVPA_Month9 from df_month3_avg as d1 INNER JOIN df_month9_avg as d2 ON d1.user_id = d2.user_id')\n",
    "\n",
    "#append groups\n",
    "df_month_39 = pd.merge(df_month_39, df_user_info, how='left', on=['user_id'])"
   ]
  },
  {
   "cell_type": "code",
   "execution_count": 51,
   "metadata": {},
   "outputs": [],
   "source": [
    "def tenPercent(row):\n",
    "    if (row['MVPA_Month9'] >= (row['MVPA_Month3']*0.9)):\n",
    "        val = 'Maintainer'\n",
    "    else:\n",
    "        val = 'Non-Maintainer'\n",
    "    return val\n",
    "\n",
    "df_month_39['Label'] = df_month_39.apply(tenPercent, axis=1)"
   ]
  },
  {
   "cell_type": "code",
   "execution_count": 52,
   "metadata": {},
   "outputs": [
    {
     "data": {
      "text/html": [
       "<div>\n",
       "<style scoped>\n",
       "    .dataframe tbody tr th:only-of-type {\n",
       "        vertical-align: middle;\n",
       "    }\n",
       "\n",
       "    .dataframe tbody tr th {\n",
       "        vertical-align: top;\n",
       "    }\n",
       "\n",
       "    .dataframe thead th {\n",
       "        text-align: right;\n",
       "    }\n",
       "</style>\n",
       "<table border=\"1\" class=\"dataframe\">\n",
       "  <thead>\n",
       "    <tr style=\"text-align: right;\">\n",
       "      <th></th>\n",
       "      <th>user_id</th>\n",
       "      <th>MVPA_Month3</th>\n",
       "      <th>MVPA_Month9</th>\n",
       "      <th>group</th>\n",
       "      <th>Label</th>\n",
       "    </tr>\n",
       "  </thead>\n",
       "  <tbody>\n",
       "    <tr>\n",
       "      <th>0</th>\n",
       "      <td>1</td>\n",
       "      <td>120.800000</td>\n",
       "      <td>143.333333</td>\n",
       "      <td>2</td>\n",
       "      <td>Maintainer</td>\n",
       "    </tr>\n",
       "    <tr>\n",
       "      <th>1</th>\n",
       "      <td>7</td>\n",
       "      <td>110.444444</td>\n",
       "      <td>280.388889</td>\n",
       "      <td>3</td>\n",
       "      <td>Maintainer</td>\n",
       "    </tr>\n",
       "    <tr>\n",
       "      <th>2</th>\n",
       "      <td>9</td>\n",
       "      <td>291.555556</td>\n",
       "      <td>313.950000</td>\n",
       "      <td>2</td>\n",
       "      <td>Maintainer</td>\n",
       "    </tr>\n",
       "    <tr>\n",
       "      <th>3</th>\n",
       "      <td>13</td>\n",
       "      <td>248.500000</td>\n",
       "      <td>219.605556</td>\n",
       "      <td>2</td>\n",
       "      <td>Non-Maintainer</td>\n",
       "    </tr>\n",
       "    <tr>\n",
       "      <th>4</th>\n",
       "      <td>14</td>\n",
       "      <td>52.500000</td>\n",
       "      <td>105.000000</td>\n",
       "      <td>2</td>\n",
       "      <td>Maintainer</td>\n",
       "    </tr>\n",
       "  </tbody>\n",
       "</table>\n",
       "</div>"
      ],
      "text/plain": [
       "   user_id  MVPA_Month3  MVPA_Month9  group           Label\n",
       "0        1   120.800000   143.333333      2      Maintainer\n",
       "1        7   110.444444   280.388889      3      Maintainer\n",
       "2        9   291.555556   313.950000      2      Maintainer\n",
       "3       13   248.500000   219.605556      2  Non-Maintainer\n",
       "4       14    52.500000   105.000000      2      Maintainer"
      ]
     },
     "execution_count": 52,
     "metadata": {},
     "output_type": "execute_result"
    }
   ],
   "source": [
    "df_month_39.head(5)"
   ]
  },
  {
   "cell_type": "markdown",
   "metadata": {},
   "source": [
    "#### Visualize"
   ]
  },
  {
   "cell_type": "code",
   "execution_count": 53,
   "metadata": {},
   "outputs": [
    {
     "name": "stderr",
     "output_type": "stream",
     "text": [
      "D:\\Anaconda\\lib\\site-packages\\ipykernel_launcher.py:19: UserWarning: Matplotlib is currently using module://ipykernel.pylab.backend_inline, which is a non-GUI backend, so cannot show the figure.\n"
     ]
    },
    {
     "data": {
      "image/png": "[encoded data removed]",
      "text/plain": [
       "<Figure size 1080x720 with 3 Axes>"
      ]
     },
     "metadata": {},
     "output_type": "display_data"
    }
   ],
   "source": [
    "def showAll(df_month3_avg):\n",
    "    #get groups\n",
    "    df_month3_group1 = df_month3_avg[df_month3_avg['group'] == 1]\n",
    "    df_month3_group2 = df_month3_avg[df_month3_avg['group'] == 2]\n",
    "    df_month3_group3 = df_month3_avg[df_month3_avg['group'] == 3]\n",
    "    \n",
    "    #visualize\n",
    "    fig, ax =plt.subplots(1,3)\n",
    "    ax1, ax2, ax3 = ax.ravel()\n",
    "    ax1 = sns.countplot(df_month3_group2['Label'], ax=ax[0], order=['Non-Maintainer','Maintainer'])\n",
    "    ax2 = sns.countplot(df_month3_group3['Label'], ax=ax[1], order=['Non-Maintainer','Maintainer'])\n",
    "    ax3 = sns.countplot(df_month3_group1['Label'], ax=ax[2], order=['Non-Maintainer','Maintainer'])\n",
    "    ax1.set_ylim([0, 50])\n",
    "    ax1.set_title(\"Simultaneous\")\n",
    "    ax2.set_ylim([0, 50])\n",
    "    ax2.set_title(\"Sequential\")\n",
    "    ax3.set_ylim([0, 50])\n",
    "    ax3.set_title(\"Control\")\n",
    "    fig.show()\n",
    "\n",
    "showAll(df_month_39)"
   ]
  },
  {
   "cell_type": "code",
   "execution_count": 54,
   "metadata": {},
   "outputs": [
    {
     "data": {
      "text/html": [
       "<div>\n",
       "<style scoped>\n",
       "    .dataframe tbody tr th:only-of-type {\n",
       "        vertical-align: middle;\n",
       "    }\n",
       "\n",
       "    .dataframe tbody tr th {\n",
       "        vertical-align: top;\n",
       "    }\n",
       "\n",
       "    .dataframe thead th {\n",
       "        text-align: right;\n",
       "    }\n",
       "</style>\n",
       "<table border=\"1\" class=\"dataframe\">\n",
       "  <thead>\n",
       "    <tr style=\"text-align: right;\">\n",
       "      <th></th>\n",
       "      <th>Group</th>\n",
       "      <th>Maintained</th>\n",
       "      <th>Non-maintained</th>\n",
       "      <th>Percentage</th>\n",
       "    </tr>\n",
       "  </thead>\n",
       "  <tbody>\n",
       "    <tr>\n",
       "      <th>0</th>\n",
       "      <td>Simultaneous</td>\n",
       "      <td>26</td>\n",
       "      <td>29</td>\n",
       "      <td>47.27</td>\n",
       "    </tr>\n",
       "    <tr>\n",
       "      <th>1</th>\n",
       "      <td>Sequential</td>\n",
       "      <td>34</td>\n",
       "      <td>24</td>\n",
       "      <td>58.62</td>\n",
       "    </tr>\n",
       "    <tr>\n",
       "      <th>2</th>\n",
       "      <td>Control</td>\n",
       "      <td>6</td>\n",
       "      <td>5</td>\n",
       "      <td>54.55</td>\n",
       "    </tr>\n",
       "  </tbody>\n",
       "</table>\n",
       "</div>"
      ],
      "text/plain": [
       "          Group  Maintained  Non-maintained  Percentage\n",
       "0  Simultaneous          26              29       47.27\n",
       "1    Sequential          34              24       58.62\n",
       "2       Control           6               5       54.55"
      ]
     },
     "execution_count": 54,
     "metadata": {},
     "output_type": "execute_result"
    }
   ],
   "source": [
    "###Number of Maintainers\n",
    "def get_M_number(df_month3_avg):\n",
    "    df_month3_group1 = df_month3_avg[df_month3_avg['group'] == 1]\n",
    "    df_month3_group2 = df_month3_avg[df_month3_avg['group'] == 2]\n",
    "    df_month3_group3 = df_month3_avg[df_month3_avg['group'] == 3]\n",
    "    \n",
    "    #get number of maintained vs non-maintained\n",
    "    m1 = len(df_month3_group1[df_month3_group1['Label'] == 'Maintainer'])\n",
    "    nm1 = len(df_month3_group1[df_month3_group1['Label'] == 'Non-Maintainer'])\n",
    "    p1 = round(m1 / (m1+nm1) * 100, 2)\n",
    "    m2 = len(df_month3_group2[df_month3_group2['Label'] == 'Maintainer'])\n",
    "    nm2 = len(df_month3_group2[df_month3_group2['Label'] == 'Non-Maintainer'])\n",
    "    p2 = round(m2 / (m2+nm2) * 100, 2)\n",
    "    m3 = len(df_month3_group3[df_month3_group3['Label'] == 'Maintainer'])\n",
    "    nm3 = len(df_month3_group3[df_month3_group3['Label'] == 'Non-Maintainer'])\n",
    "    p3 = round(m3 / (m3+nm3) * 100, 2)\n",
    "    \n",
    "    group1 = ['Control'] + [m1, nm1, p1]\n",
    "    group2 = ['Simultaneous'] + [m2, nm2, p2]\n",
    "    group3 = ['Sequential'] + [m3, nm3, p3]\n",
    "    \n",
    "    return(pd.DataFrame([group2, group3, group1], columns=['Group','Maintained','Non-maintained', 'Percentage']))\n",
    "\n",
    "get_M_number(df_month_39)"
   ]
  }
 ],
 "metadata": {
  "kernelspec": {
   "display_name": "Python 3",
   "language": "python",
   "name": "python3"
  },
  "language_info": {
   "codemirror_mode": {
    "name": "ipython",
    "version": 3
   },
   "file_extension": ".py",
   "mimetype": "text/x-python",
   "name": "python",
   "nbconvert_exporter": "python",
   "pygments_lexer": "ipython3",
   "version": "3.7.3"
  }
 },
 "nbformat": 4,
 "nbformat_minor": 4
}
