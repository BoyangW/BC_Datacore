{
 "cells": [
  {
   "cell_type": "markdown",
   "metadata": {},
   "source": [
    "## Sedentary and MVPA Outcomes Extraction\n",
    "#### This notebook extracts 212 participants' sendentary and physical activity minutes from raw dataset with daily level granularity\n",
    "#### The inputs and outputs are in csv format"
   ]
  },
  {
   "cell_type": "code",
   "execution_count": 2,
   "metadata": {},
   "outputs": [],
   "source": [
    "import pandas as pd\n",
    "import numpy as np\n",
    "import pandasql as ps\n",
    "import time \n",
    "import datetime \n",
    "import matplotlib.pyplot as plt\n",
    "import seaborn as sns"
   ]
  },
  {
   "cell_type": "code",
   "execution_count": 23,
   "metadata": {},
   "outputs": [],
   "source": [
    "#import tables\n",
    "df_sed = pd.read_csv('Raw Data/sed_upload.csv')\n",
    "df_pa = pd.read_csv('Raw Data/manual_min_upload.csv')\n",
    "df_pa_device = pd.read_csv('Raw Data/s2_counts.csv')\n",
    "df_user = pd.read_csv('Raw Data/users.csv') "
   ]
  },
  {
   "cell_type": "markdown",
   "metadata": {},
   "source": [
    "### Extract Participants (212 from intervention period)"
   ]
  },
  {
   "cell_type": "code",
   "execution_count": 4,
   "metadata": {},
   "outputs": [
    {
     "name": "stdout",
     "output_type": "stream",
     "text": [
      "There are 212 participants in intervention/follow-up period\n"
     ]
    }
   ],
   "source": [
    "#all participants\n",
    "id_list = []\n",
    "for i in range(df_user.shape[0]):\n",
    "    #extract users' name starting with 'mbc2'\n",
    "    if (df_user['username'][i][0:4] == 'mbc2'):\n",
    "        id_list.append(df_user['user_id'][i])\n",
    "id_list.sort()\n",
    "print('There are', len(id_list), 'participants in intervention/follow-up period')"
   ]
  },
  {
   "cell_type": "code",
   "execution_count": 4,
   "metadata": {},
   "outputs": [],
   "source": [
    "# selecting rows for participants only\n",
    "df_sed= df_sed[df_sed['user_id'].isin(id_list)]\n",
    "df_pa= df_pa[df_pa['user_id'].isin(id_list)]\n",
    "df_pa_device= df_pa_device[df_pa_device['user_id'].isin(id_list)]\n",
    "\n",
    "#reset index\n",
    "df_sed = df_sed.reset_index(drop=True)\n",
    "df_pa = df_pa.reset_index(drop=True)\n",
    "df_pa_device = df_pa_device.reset_index(drop=True)"
   ]
  },
  {
   "cell_type": "markdown",
   "metadata": {},
   "source": [
    "### SED (dayp1_minute + dayp2_minute + dayp3_minute +  dayp4_minute )"
   ]
  },
  {
   "cell_type": "code",
   "execution_count": 5,
   "metadata": {},
   "outputs": [],
   "source": [
    "df_sed['sed_total'] = df_sed['dayp1_minute']+df_sed['dayp2_minute']+df_sed['dayp3_minute']+df_sed['dayp4_minute']"
   ]
  },
  {
   "cell_type": "code",
   "execution_count": 6,
   "metadata": {},
   "outputs": [],
   "source": [
    "sed_list_included = ['user_id', 'when_sed', 'dayp1_minute','dayp2_minute', 'dayp3_minute', 'dayp4_minute', 'sed_total']\n",
    "df_sed = df_sed[sed_list_included]"
   ]
  },
  {
   "cell_type": "code",
   "execution_count": 7,
   "metadata": {},
   "outputs": [
    {
     "data": {
      "text/html": [
       "<div>\n",
       "<style scoped>\n",
       "    .dataframe tbody tr th:only-of-type {\n",
       "        vertical-align: middle;\n",
       "    }\n",
       "\n",
       "    .dataframe tbody tr th {\n",
       "        vertical-align: top;\n",
       "    }\n",
       "\n",
       "    .dataframe thead th {\n",
       "        text-align: right;\n",
       "    }\n",
       "</style>\n",
       "<table border=\"1\" class=\"dataframe\">\n",
       "  <thead>\n",
       "    <tr style=\"text-align: right;\">\n",
       "      <th></th>\n",
       "      <th>user_id</th>\n",
       "      <th>when_sed</th>\n",
       "      <th>dayp1_minute</th>\n",
       "      <th>dayp2_minute</th>\n",
       "      <th>dayp3_minute</th>\n",
       "      <th>dayp4_minute</th>\n",
       "      <th>sed_total</th>\n",
       "    </tr>\n",
       "  </thead>\n",
       "  <tbody>\n",
       "    <tr>\n",
       "      <th>0</th>\n",
       "      <td>14</td>\n",
       "      <td>2012-08-13</td>\n",
       "      <td>40</td>\n",
       "      <td>0</td>\n",
       "      <td>0</td>\n",
       "      <td>60</td>\n",
       "      <td>100</td>\n",
       "    </tr>\n",
       "    <tr>\n",
       "      <th>1</th>\n",
       "      <td>14</td>\n",
       "      <td>2012-08-14</td>\n",
       "      <td>60</td>\n",
       "      <td>0</td>\n",
       "      <td>30</td>\n",
       "      <td>0</td>\n",
       "      <td>90</td>\n",
       "    </tr>\n",
       "    <tr>\n",
       "      <th>2</th>\n",
       "      <td>9</td>\n",
       "      <td>2012-08-14</td>\n",
       "      <td>30</td>\n",
       "      <td>0</td>\n",
       "      <td>0</td>\n",
       "      <td>90</td>\n",
       "      <td>120</td>\n",
       "    </tr>\n",
       "    <tr>\n",
       "      <th>3</th>\n",
       "      <td>14</td>\n",
       "      <td>2012-08-15</td>\n",
       "      <td>0</td>\n",
       "      <td>60</td>\n",
       "      <td>0</td>\n",
       "      <td>180</td>\n",
       "      <td>240</td>\n",
       "    </tr>\n",
       "    <tr>\n",
       "      <th>4</th>\n",
       "      <td>9</td>\n",
       "      <td>2012-08-15</td>\n",
       "      <td>45</td>\n",
       "      <td>0</td>\n",
       "      <td>0</td>\n",
       "      <td>120</td>\n",
       "      <td>165</td>\n",
       "    </tr>\n",
       "  </tbody>\n",
       "</table>\n",
       "</div>"
      ],
      "text/plain": [
       "   user_id    when_sed  dayp1_minute  dayp2_minute  dayp3_minute  \\\n",
       "0       14  2012-08-13            40             0             0   \n",
       "1       14  2012-08-14            60             0            30   \n",
       "2        9  2012-08-14            30             0             0   \n",
       "3       14  2012-08-15             0            60             0   \n",
       "4        9  2012-08-15            45             0             0   \n",
       "\n",
       "   dayp4_minute  sed_total  \n",
       "0            60        100  \n",
       "1             0         90  \n",
       "2            90        120  \n",
       "3           180        240  \n",
       "4           120        165  "
      ]
     },
     "execution_count": 7,
     "metadata": {},
     "output_type": "execute_result"
    }
   ],
   "source": [
    "#cleaned sedentary outcome table\n",
    "df_sed.head(5)"
   ]
  },
  {
   "cell_type": "markdown",
   "metadata": {},
   "source": [
    "### PA (Manually entered time: min)"
   ]
  },
  {
   "cell_type": "code",
   "execution_count": 14,
   "metadata": {},
   "outputs": [],
   "source": [
    "pa_list_included = ['user_id','tstamp_phone','min']\n",
    "df_pa = df_pa[pa_list_included]"
   ]
  },
  {
   "cell_type": "code",
   "execution_count": 15,
   "metadata": {},
   "outputs": [
    {
     "data": {
      "text/html": [
       "<div>\n",
       "<style scoped>\n",
       "    .dataframe tbody tr th:only-of-type {\n",
       "        vertical-align: middle;\n",
       "    }\n",
       "\n",
       "    .dataframe tbody tr th {\n",
       "        vertical-align: top;\n",
       "    }\n",
       "\n",
       "    .dataframe thead th {\n",
       "        text-align: right;\n",
       "    }\n",
       "</style>\n",
       "<table border=\"1\" class=\"dataframe\">\n",
       "  <thead>\n",
       "    <tr style=\"text-align: right;\">\n",
       "      <th></th>\n",
       "      <th>user_id</th>\n",
       "      <th>tstamp_phone</th>\n",
       "      <th>min</th>\n",
       "    </tr>\n",
       "  </thead>\n",
       "  <tbody>\n",
       "    <tr>\n",
       "      <th>0</th>\n",
       "      <td>14</td>\n",
       "      <td>2012-09-02 20:45:23</td>\n",
       "      <td>60</td>\n",
       "    </tr>\n",
       "    <tr>\n",
       "      <th>1</th>\n",
       "      <td>14</td>\n",
       "      <td>2012-09-02 20:46:01</td>\n",
       "      <td>90</td>\n",
       "    </tr>\n",
       "    <tr>\n",
       "      <th>2</th>\n",
       "      <td>1</td>\n",
       "      <td>2012-09-06 21:38:55</td>\n",
       "      <td>20</td>\n",
       "    </tr>\n",
       "    <tr>\n",
       "      <th>3</th>\n",
       "      <td>10000021</td>\n",
       "      <td>2012-09-07 11:21:24</td>\n",
       "      <td>30</td>\n",
       "    </tr>\n",
       "    <tr>\n",
       "      <th>4</th>\n",
       "      <td>1</td>\n",
       "      <td>2012-09-07 21:23:09</td>\n",
       "      <td>20</td>\n",
       "    </tr>\n",
       "  </tbody>\n",
       "</table>\n",
       "</div>"
      ],
      "text/plain": [
       "    user_id         tstamp_phone  min\n",
       "0        14  2012-09-02 20:45:23   60\n",
       "1        14  2012-09-02 20:46:01   90\n",
       "2         1  2012-09-06 21:38:55   20\n",
       "3  10000021  2012-09-07 11:21:24   30\n",
       "4         1  2012-09-07 21:23:09   20"
      ]
     },
     "execution_count": 15,
     "metadata": {},
     "output_type": "execute_result"
    }
   ],
   "source": [
    "#cleaned self-raported MVPA outcome table\n",
    "df_pa.head(5)"
   ]
  },
  {
   "cell_type": "code",
   "execution_count": 16,
   "metadata": {},
   "outputs": [
    {
     "name": "stderr",
     "output_type": "stream",
     "text": [
      "D:\\Anaconda\\lib\\site-packages\\ipykernel_launcher.py:2: SettingWithCopyWarning: \n",
      "A value is trying to be set on a copy of a slice from a DataFrame.\n",
      "Try using .loc[row_indexer,col_indexer] = value instead\n",
      "\n",
      "See the caveats in the documentation: https://pandas.pydata.org/pandas-docs/stable/user_guide/indexing.html#returning-a-view-versus-a-copy\n",
      "  \n"
     ]
    }
   ],
   "source": [
    "#get day-level date\n",
    "df_pa['tstamp_phone'] = df_pa['tstamp_phone'].astype('string').str[:10]\n",
    "\n",
    "#aggregate day-level minutes (sum)\n",
    "df_pa= ps.sqldf(\"SELECT user_id, tstamp_phone as upload_time, sum(min) as pa_minute_app FROM df_pa group by user_id, tstamp_phone\")"
   ]
  },
  {
   "cell_type": "markdown",
   "metadata": {},
   "source": [
    "### MVPA (device)"
   ]
  },
  {
   "cell_type": "code",
   "execution_count": 24,
   "metadata": {},
   "outputs": [
    {
     "data": {
      "text/html": [
       "<div>\n",
       "<style scoped>\n",
       "    .dataframe tbody tr th:only-of-type {\n",
       "        vertical-align: middle;\n",
       "    }\n",
       "\n",
       "    .dataframe tbody tr th {\n",
       "        vertical-align: top;\n",
       "    }\n",
       "\n",
       "    .dataframe thead th {\n",
       "        text-align: right;\n",
       "    }\n",
       "</style>\n",
       "<table border=\"1\" class=\"dataframe\">\n",
       "  <thead>\n",
       "    <tr style=\"text-align: right;\">\n",
       "      <th></th>\n",
       "      <th>_id</th>\n",
       "      <th>user_id</th>\n",
       "      <th>uc_id</th>\n",
       "      <th>tstamp</th>\n",
       "      <th>pa_count</th>\n",
       "      <th>tstamp_server_uploaded</th>\n",
       "      <th>battery</th>\n",
       "    </tr>\n",
       "  </thead>\n",
       "  <tbody>\n",
       "    <tr>\n",
       "      <th>0</th>\n",
       "      <td>1</td>\n",
       "      <td>10000020</td>\n",
       "      <td>1</td>\n",
       "      <td>2012-08-08 06:57:35</td>\n",
       "      <td>355</td>\n",
       "      <td>2012-08-08 07:01:19</td>\n",
       "      <td>2631</td>\n",
       "    </tr>\n",
       "    <tr>\n",
       "      <th>1</th>\n",
       "      <td>2</td>\n",
       "      <td>10000020</td>\n",
       "      <td>2</td>\n",
       "      <td>2012-08-08 06:58:35</td>\n",
       "      <td>54</td>\n",
       "      <td>2012-08-08 07:01:19</td>\n",
       "      <td>2631</td>\n",
       "    </tr>\n",
       "    <tr>\n",
       "      <th>2</th>\n",
       "      <td>3</td>\n",
       "      <td>10000020</td>\n",
       "      <td>3</td>\n",
       "      <td>2012-08-08 06:59:35</td>\n",
       "      <td>54</td>\n",
       "      <td>2012-08-08 07:01:19</td>\n",
       "      <td>2631</td>\n",
       "    </tr>\n",
       "    <tr>\n",
       "      <th>3</th>\n",
       "      <td>4</td>\n",
       "      <td>10000020</td>\n",
       "      <td>4</td>\n",
       "      <td>2012-08-08 07:00:35</td>\n",
       "      <td>54</td>\n",
       "      <td>2012-08-08 07:01:19</td>\n",
       "      <td>2631</td>\n",
       "    </tr>\n",
       "    <tr>\n",
       "      <th>4</th>\n",
       "      <td>5</td>\n",
       "      <td>10000020</td>\n",
       "      <td>5</td>\n",
       "      <td>2012-08-08 07:01:35</td>\n",
       "      <td>55</td>\n",
       "      <td>2012-08-08 07:05:28</td>\n",
       "      <td>2651</td>\n",
       "    </tr>\n",
       "  </tbody>\n",
       "</table>\n",
       "</div>"
      ],
      "text/plain": [
       "   _id   user_id  uc_id               tstamp  pa_count tstamp_server_uploaded  \\\n",
       "0    1  10000020      1  2012-08-08 06:57:35       355    2012-08-08 07:01:19   \n",
       "1    2  10000020      2  2012-08-08 06:58:35        54    2012-08-08 07:01:19   \n",
       "2    3  10000020      3  2012-08-08 06:59:35        54    2012-08-08 07:01:19   \n",
       "3    4  10000020      4  2012-08-08 07:00:35        54    2012-08-08 07:01:19   \n",
       "4    5  10000020      5  2012-08-08 07:01:35        55    2012-08-08 07:05:28   \n",
       "\n",
       "   battery  \n",
       "0     2631  \n",
       "1     2631  \n",
       "2     2631  \n",
       "3     2631  \n",
       "4     2651  "
      ]
     },
     "execution_count": 24,
     "metadata": {},
     "output_type": "execute_result"
    }
   ],
   "source": [
    "df_pa_device.head(5)"
   ]
  },
  {
   "cell_type": "code",
   "execution_count": 28,
   "metadata": {},
   "outputs": [],
   "source": [
    "def extractMVPA_shimmer(df_pa, df_pa_device):\n",
    "    #clean pa_upload \n",
    "    pa_list_included = ['user_id','tstamp_phone','min']\n",
    "    df_pa = df_pa[pa_list_included]\n",
    "    \n",
    "    #get day-level date\n",
    "    df_pa['tstamp_phone'] = df_pa['tstamp_phone'].astype('string').str[:10]\n",
    "\n",
    "    #aggregate day-level minutes (sum)\n",
    "    df_pa= ps.sqldf(\"SELECT user_id, tstamp_phone as upload_time, sum(min) as pa_minute_app FROM df_pa group by user_id, tstamp_phone\")\n",
    "\n",
    "    #get day-level date\n",
    "    df_pa_device['upload_time'] = df_pa_device['tstamp'].astype('string').str[:10]\n",
    "    \n",
    "    #active minute\n",
    "    df_pa_device_active = df_pa_device[df_pa_device['pa_count'] >= 1900]\n",
    "    \n",
    "    #group by user and each day, count total physical activity minutes per day\n",
    "    df_pa_device_count = ps.sqldf(\"select user_id, upload_time, count(pa_count) as pa_minute_shimmer from df_pa_device_active group by user_id, upload_time\")\n",
    "    \n",
    "    #merge two\n",
    "    combine = pd.merge(df_pa, df_pa_device_count, how='outer', on=['user_id', 'upload_time'])\n",
    "    \n",
    "    #fill missing values with 0\n",
    "    combine['pa_minute_app'] = combine['pa_minute_app'].fillna(0)\n",
    "    combine['pa_minute_shimmer'] = combine['pa_minute_shimmer'].fillna(0)\n",
    "\n",
    "    #get combined outcome (sum)\n",
    "    combine['MVPA_min'] = combine['pa_minute_app'] + combine['pa_minute_shimmer']\n",
    "    \n",
    "    #more than 100000 as abnormal\n",
    "    combine['Abnormal_counts'] = [1 if x >= 100000 else 0 for x in combine['pa_minute_shimmer']] \n",
    "    \n",
    "    return(combine)"
   ]
  },
  {
   "cell_type": "code",
   "execution_count": 29,
   "metadata": {},
   "outputs": [
    {
     "name": "stderr",
     "output_type": "stream",
     "text": [
      "D:\\Anaconda\\lib\\site-packages\\ipykernel_launcher.py:7: SettingWithCopyWarning: \n",
      "A value is trying to be set on a copy of a slice from a DataFrame.\n",
      "Try using .loc[row_indexer,col_indexer] = value instead\n",
      "\n",
      "See the caveats in the documentation: https://pandas.pydata.org/pandas-docs/stable/user_guide/indexing.html#returning-a-view-versus-a-copy\n",
      "  import sys\n"
     ]
    },
    {
     "data": {
      "text/html": [
       "<div>\n",
       "<style scoped>\n",
       "    .dataframe tbody tr th:only-of-type {\n",
       "        vertical-align: middle;\n",
       "    }\n",
       "\n",
       "    .dataframe tbody tr th {\n",
       "        vertical-align: top;\n",
       "    }\n",
       "\n",
       "    .dataframe thead th {\n",
       "        text-align: right;\n",
       "    }\n",
       "</style>\n",
       "<table border=\"1\" class=\"dataframe\">\n",
       "  <thead>\n",
       "    <tr style=\"text-align: right;\">\n",
       "      <th></th>\n",
       "      <th>user_id</th>\n",
       "      <th>upload_time</th>\n",
       "      <th>pa_minute_app</th>\n",
       "      <th>pa_minute_shimmer</th>\n",
       "      <th>MVPA_min</th>\n",
       "      <th>Abnormal_counts</th>\n",
       "    </tr>\n",
       "  </thead>\n",
       "  <tbody>\n",
       "    <tr>\n",
       "      <th>0</th>\n",
       "      <td>1</td>\n",
       "      <td>2012-09-06</td>\n",
       "      <td>20.0</td>\n",
       "      <td>0.0</td>\n",
       "      <td>20.0</td>\n",
       "      <td>0</td>\n",
       "    </tr>\n",
       "    <tr>\n",
       "      <th>1</th>\n",
       "      <td>1</td>\n",
       "      <td>2012-09-07</td>\n",
       "      <td>20.0</td>\n",
       "      <td>2.0</td>\n",
       "      <td>22.0</td>\n",
       "      <td>0</td>\n",
       "    </tr>\n",
       "    <tr>\n",
       "      <th>2</th>\n",
       "      <td>1</td>\n",
       "      <td>2012-09-10</td>\n",
       "      <td>20.0</td>\n",
       "      <td>0.0</td>\n",
       "      <td>20.0</td>\n",
       "      <td>0</td>\n",
       "    </tr>\n",
       "    <tr>\n",
       "      <th>3</th>\n",
       "      <td>1</td>\n",
       "      <td>2012-09-12</td>\n",
       "      <td>20.0</td>\n",
       "      <td>0.0</td>\n",
       "      <td>20.0</td>\n",
       "      <td>0</td>\n",
       "    </tr>\n",
       "    <tr>\n",
       "      <th>4</th>\n",
       "      <td>1</td>\n",
       "      <td>2012-09-16</td>\n",
       "      <td>20.0</td>\n",
       "      <td>4.0</td>\n",
       "      <td>24.0</td>\n",
       "      <td>0</td>\n",
       "    </tr>\n",
       "  </tbody>\n",
       "</table>\n",
       "</div>"
      ],
      "text/plain": [
       "   user_id upload_time  pa_minute_app  pa_minute_shimmer  MVPA_min  \\\n",
       "0        1  2012-09-06           20.0                0.0      20.0   \n",
       "1        1  2012-09-07           20.0                2.0      22.0   \n",
       "2        1  2012-09-10           20.0                0.0      20.0   \n",
       "3        1  2012-09-12           20.0                0.0      20.0   \n",
       "4        1  2012-09-16           20.0                4.0      24.0   \n",
       "\n",
       "   Abnormal_counts  \n",
       "0                0  \n",
       "1                0  \n",
       "2                0  \n",
       "3                0  \n",
       "4                0  "
      ]
     },
     "execution_count": 29,
     "metadata": {},
     "output_type": "execute_result"
    }
   ],
   "source": [
    "#all values (including)\n",
    "df_pa_device_combine = extractMVPA_shimmer(df_pa, df_pa_device)\n",
    "df_pa_device_combine.head(5)"
   ]
  },
  {
   "cell_type": "code",
   "execution_count": 32,
   "metadata": {},
   "outputs": [
    {
     "data": {
      "text/html": [
       "<div>\n",
       "<style scoped>\n",
       "    .dataframe tbody tr th:only-of-type {\n",
       "        vertical-align: middle;\n",
       "    }\n",
       "\n",
       "    .dataframe tbody tr th {\n",
       "        vertical-align: top;\n",
       "    }\n",
       "\n",
       "    .dataframe thead th {\n",
       "        text-align: right;\n",
       "    }\n",
       "</style>\n",
       "<table border=\"1\" class=\"dataframe\">\n",
       "  <thead>\n",
       "    <tr style=\"text-align: right;\">\n",
       "      <th></th>\n",
       "      <th>user_id</th>\n",
       "      <th>upload_time</th>\n",
       "      <th>pa_minute_app</th>\n",
       "      <th>pa_minute_shimmer</th>\n",
       "      <th>MVPA_min</th>\n",
       "      <th>Abnormal_counts</th>\n",
       "    </tr>\n",
       "  </thead>\n",
       "  <tbody>\n",
       "    <tr>\n",
       "      <th>0</th>\n",
       "      <td>1</td>\n",
       "      <td>2012-09-06</td>\n",
       "      <td>20.0</td>\n",
       "      <td>0.0</td>\n",
       "      <td>20.0</td>\n",
       "      <td>0</td>\n",
       "    </tr>\n",
       "    <tr>\n",
       "      <th>1</th>\n",
       "      <td>1</td>\n",
       "      <td>2012-09-07</td>\n",
       "      <td>20.0</td>\n",
       "      <td>2.0</td>\n",
       "      <td>22.0</td>\n",
       "      <td>0</td>\n",
       "    </tr>\n",
       "    <tr>\n",
       "      <th>2</th>\n",
       "      <td>1</td>\n",
       "      <td>2012-09-10</td>\n",
       "      <td>20.0</td>\n",
       "      <td>0.0</td>\n",
       "      <td>20.0</td>\n",
       "      <td>0</td>\n",
       "    </tr>\n",
       "    <tr>\n",
       "      <th>3</th>\n",
       "      <td>1</td>\n",
       "      <td>2012-09-12</td>\n",
       "      <td>20.0</td>\n",
       "      <td>0.0</td>\n",
       "      <td>20.0</td>\n",
       "      <td>0</td>\n",
       "    </tr>\n",
       "    <tr>\n",
       "      <th>4</th>\n",
       "      <td>1</td>\n",
       "      <td>2012-09-16</td>\n",
       "      <td>20.0</td>\n",
       "      <td>4.0</td>\n",
       "      <td>24.0</td>\n",
       "      <td>0</td>\n",
       "    </tr>\n",
       "  </tbody>\n",
       "</table>\n",
       "</div>"
      ],
      "text/plain": [
       "   user_id upload_time  pa_minute_app  pa_minute_shimmer  MVPA_min  \\\n",
       "0        1  2012-09-06           20.0                0.0      20.0   \n",
       "1        1  2012-09-07           20.0                2.0      22.0   \n",
       "2        1  2012-09-10           20.0                0.0      20.0   \n",
       "3        1  2012-09-12           20.0                0.0      20.0   \n",
       "4        1  2012-09-16           20.0                4.0      24.0   \n",
       "\n",
       "   Abnormal_counts  \n",
       "0                0  \n",
       "1                0  \n",
       "2                0  \n",
       "3                0  \n",
       "4                0  "
      ]
     },
     "execution_count": 32,
     "metadata": {},
     "output_type": "execute_result"
    }
   ],
   "source": [
    "df_pa_device_normal = df_pa_device_combine[df_pa_device_combine[\"Abnormal_counts\"] == 0]\n",
    "df_pa_device_normal.head(5)"
   ]
  },
  {
   "cell_type": "code",
   "execution_count": 36,
   "metadata": {},
   "outputs": [
    {
     "data": {
      "text/html": [
       "<div>\n",
       "<style scoped>\n",
       "    .dataframe tbody tr th:only-of-type {\n",
       "        vertical-align: middle;\n",
       "    }\n",
       "\n",
       "    .dataframe tbody tr th {\n",
       "        vertical-align: top;\n",
       "    }\n",
       "\n",
       "    .dataframe thead th {\n",
       "        text-align: right;\n",
       "    }\n",
       "</style>\n",
       "<table border=\"1\" class=\"dataframe\">\n",
       "  <thead>\n",
       "    <tr style=\"text-align: right;\">\n",
       "      <th></th>\n",
       "      <th>user_id</th>\n",
       "      <th>upload_time</th>\n",
       "      <th>pa_minute_app</th>\n",
       "    </tr>\n",
       "  </thead>\n",
       "  <tbody>\n",
       "    <tr>\n",
       "      <th>0</th>\n",
       "      <td>1</td>\n",
       "      <td>2012-09-06</td>\n",
       "      <td>20.0</td>\n",
       "    </tr>\n",
       "    <tr>\n",
       "      <th>1</th>\n",
       "      <td>1</td>\n",
       "      <td>2012-09-07</td>\n",
       "      <td>20.0</td>\n",
       "    </tr>\n",
       "    <tr>\n",
       "      <th>2</th>\n",
       "      <td>1</td>\n",
       "      <td>2012-09-10</td>\n",
       "      <td>20.0</td>\n",
       "    </tr>\n",
       "    <tr>\n",
       "      <th>3</th>\n",
       "      <td>1</td>\n",
       "      <td>2012-09-12</td>\n",
       "      <td>20.0</td>\n",
       "    </tr>\n",
       "    <tr>\n",
       "      <th>4</th>\n",
       "      <td>1</td>\n",
       "      <td>2012-09-16</td>\n",
       "      <td>20.0</td>\n",
       "    </tr>\n",
       "  </tbody>\n",
       "</table>\n",
       "</div>"
      ],
      "text/plain": [
       "   user_id upload_time  pa_minute_app\n",
       "0        1  2012-09-06           20.0\n",
       "1        1  2012-09-07           20.0\n",
       "2        1  2012-09-10           20.0\n",
       "3        1  2012-09-12           20.0\n",
       "4        1  2012-09-16           20.0"
      ]
     },
     "execution_count": 36,
     "metadata": {},
     "output_type": "execute_result"
    }
   ],
   "source": [
    "#only MVPA upload \n",
    "df_pa = df_pa_device_combine[['user_id','upload_time','pa_minute_app']]\n",
    "df_pa.head(5)"
   ]
  },
  {
   "cell_type": "code",
   "execution_count": 37,
   "metadata": {},
   "outputs": [
    {
     "data": {
      "text/html": [
       "<div>\n",
       "<style scoped>\n",
       "    .dataframe tbody tr th:only-of-type {\n",
       "        vertical-align: middle;\n",
       "    }\n",
       "\n",
       "    .dataframe tbody tr th {\n",
       "        vertical-align: top;\n",
       "    }\n",
       "\n",
       "    .dataframe thead th {\n",
       "        text-align: right;\n",
       "    }\n",
       "</style>\n",
       "<table border=\"1\" class=\"dataframe\">\n",
       "  <thead>\n",
       "    <tr style=\"text-align: right;\">\n",
       "      <th></th>\n",
       "      <th>user_id</th>\n",
       "      <th>upload_time</th>\n",
       "      <th>pa_minute_shimmer</th>\n",
       "    </tr>\n",
       "  </thead>\n",
       "  <tbody>\n",
       "    <tr>\n",
       "      <th>1</th>\n",
       "      <td>1</td>\n",
       "      <td>2012-09-07</td>\n",
       "      <td>2.0</td>\n",
       "    </tr>\n",
       "    <tr>\n",
       "      <th>4</th>\n",
       "      <td>1</td>\n",
       "      <td>2012-09-16</td>\n",
       "      <td>4.0</td>\n",
       "    </tr>\n",
       "    <tr>\n",
       "      <th>7</th>\n",
       "      <td>1</td>\n",
       "      <td>2012-09-19</td>\n",
       "      <td>1.0</td>\n",
       "    </tr>\n",
       "    <tr>\n",
       "      <th>8</th>\n",
       "      <td>1</td>\n",
       "      <td>2012-09-20</td>\n",
       "      <td>2.0</td>\n",
       "    </tr>\n",
       "    <tr>\n",
       "      <th>9</th>\n",
       "      <td>1</td>\n",
       "      <td>2012-09-23</td>\n",
       "      <td>11.0</td>\n",
       "    </tr>\n",
       "  </tbody>\n",
       "</table>\n",
       "</div>"
      ],
      "text/plain": [
       "   user_id upload_time  pa_minute_shimmer\n",
       "1        1  2012-09-07                2.0\n",
       "4        1  2012-09-16                4.0\n",
       "7        1  2012-09-19                1.0\n",
       "8        1  2012-09-20                2.0\n",
       "9        1  2012-09-23               11.0"
      ]
     },
     "execution_count": 37,
     "metadata": {},
     "output_type": "execute_result"
    }
   ],
   "source": [
    "#only MVPA shimmer\n",
    "df_shimmer = df_pa_device_combine[['user_id','upload_time','pa_minute_shimmer']]\n",
    "df_shimmer = df_shimmer[df_shimmer['pa_minute_shimmer']!=0]\n",
    "df_shimmer.head(5)"
   ]
  },
  {
   "cell_type": "markdown",
   "metadata": {},
   "source": [
    "### Save the results (local csv)"
   ]
  },
  {
   "cell_type": "code",
   "execution_count": 79,
   "metadata": {},
   "outputs": [],
   "source": [
    "df_sed.to_csv('Result/sed_clean.csv', index=False)"
   ]
  },
  {
   "cell_type": "code",
   "execution_count": 39,
   "metadata": {},
   "outputs": [],
   "source": [
    "df_pa.to_csv('Result/pa_clean.csv', index=False)"
   ]
  },
  {
   "cell_type": "code",
   "execution_count": 38,
   "metadata": {},
   "outputs": [],
   "source": [
    "df_shimmer.to_csv('Result/pa_shimmer_clean.csv', index=False)"
   ]
  },
  {
   "cell_type": "code",
   "execution_count": 33,
   "metadata": {},
   "outputs": [],
   "source": [
    "df_pa_device_normal.to_csv('Result/pa_merged_normal.csv', index=False)"
   ]
  },
  {
   "cell_type": "code",
   "execution_count": 30,
   "metadata": {},
   "outputs": [],
   "source": [
    "df_pa_device_combine.to_csv('Result/pa_merged.csv', index=False)"
   ]
  }
 ],
 "metadata": {
  "kernelspec": {
   "display_name": "Python 3",
   "language": "python",
   "name": "python3"
  },
  "language_info": {
   "codemirror_mode": {
    "name": "ipython",
    "version": 3
   },
   "file_extension": ".py",
   "mimetype": "text/x-python",
   "name": "python",
   "nbconvert_exporter": "python",
   "pygments_lexer": "ipython3",
   "version": "3.7.3"
  }
 },
 "nbformat": 4,
 "nbformat_minor": 4
}
