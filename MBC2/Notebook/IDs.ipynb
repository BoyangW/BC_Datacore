{
 "cells": [
  {
   "cell_type": "code",
   "execution_count": 1,
   "metadata": {},
   "outputs": [],
   "source": [
    "import pandas as pd"
   ]
  },
  {
   "cell_type": "code",
   "execution_count": 2,
   "metadata": {},
   "outputs": [],
   "source": [
    "df_user = pd.read_csv('Result/ids.csv') "
   ]
  },
  {
   "cell_type": "code",
   "execution_count": 8,
   "metadata": {},
   "outputs": [],
   "source": [
    "df_ids = df_user[['study_id', 'user_id']]"
   ]
  },
  {
   "cell_type": "code",
   "execution_count": 9,
   "metadata": {},
   "outputs": [],
   "source": [
    "def addStudyId(df, df_ids):\n",
    "    df_final = df_ids.merge(df, on = 'user_id')\n",
    "    return df_final"
   ]
  },
  {
   "cell_type": "markdown",
   "metadata": {},
   "source": [
    "### Food"
   ]
  },
  {
   "cell_type": "code",
   "execution_count": 20,
   "metadata": {},
   "outputs": [
    {
     "name": "stdout",
     "output_type": "stream",
     "text": [
      "C:\\Users\\mrwby\\Desktop\\MBC2_Copy\\Result\\Food\\food_all.csv\n",
      "C:\\Users\\mrwby\\Desktop\\MBC2_Copy\\Result\\Food\\food_all_userlevel.csv\n",
      "C:\\Users\\mrwby\\Desktop\\MBC2_Copy\\Result\\Food\\food_upload.csv\n",
      "C:\\Users\\mrwby\\Desktop\\MBC2_Copy\\Result\\Food\\food_upload_userlevel.csv\n",
      "C:\\Users\\mrwby\\Desktop\\MBC2_Copy\\Result\\Food\\recipe.csv\n",
      "C:\\Users\\mrwby\\Desktop\\MBC2_Copy\\Result\\Food\\recipe_userlevel.csv\n"
     ]
    }
   ],
   "source": [
    "import os\n",
    "dir_food = []\n",
    "\n",
    "directory = r'C:\\Users\\mrwby\\Desktop\\MBC2_Copy\\Result\\Food'\n",
    "for filename in os.listdir(directory):\n",
    "    if filename.endswith(\".csv\"):\n",
    "        print(os.path.join(directory, filename))\n",
    "        dir_food.append(os.path.join(directory, filename))\n",
    "    else:\n",
    "        continue"
   ]
  },
  {
   "cell_type": "code",
   "execution_count": 26,
   "metadata": {},
   "outputs": [],
   "source": [
    "for tables in dir_food:\n",
    "    addStudyId(pd.read_csv(tables), df_ids).to_csv(tables, index=False)"
   ]
  },
  {
   "cell_type": "markdown",
   "metadata": {},
   "source": [
    "### MVPA"
   ]
  },
  {
   "cell_type": "code",
   "execution_count": 27,
   "metadata": {},
   "outputs": [
    {
     "name": "stdout",
     "output_type": "stream",
     "text": [
      "C:\\Users\\mrwby\\Desktop\\MBC2_Copy\\Result\\MVPA\\pa_clean.csv\n",
      "C:\\Users\\mrwby\\Desktop\\MBC2_Copy\\Result\\MVPA\\pa_combined_16k.csv\n",
      "C:\\Users\\mrwby\\Desktop\\MBC2_Copy\\Result\\MVPA\\pa_combined_20k.csv\n",
      "C:\\Users\\mrwby\\Desktop\\MBC2_Copy\\Result\\MVPA\\pa_shimmer.csv\n",
      "C:\\Users\\mrwby\\Desktop\\MBC2_Copy\\Result\\MVPA\\pa_shimmer_16k.csv\n",
      "C:\\Users\\mrwby\\Desktop\\MBC2_Copy\\Result\\MVPA\\pa_shimmer_20k.csv\n"
     ]
    }
   ],
   "source": [
    "dir_MVPA = []\n",
    "\n",
    "directory = r'C:\\Users\\mrwby\\Desktop\\MBC2_Copy\\Result\\MVPA'\n",
    "for filename in os.listdir(directory):\n",
    "    if filename.endswith(\".csv\"):\n",
    "        print(os.path.join(directory, filename))\n",
    "        dir_MVPA.append(os.path.join(directory, filename))\n",
    "    else:\n",
    "        continue"
   ]
  },
  {
   "cell_type": "code",
   "execution_count": 29,
   "metadata": {},
   "outputs": [],
   "source": [
    "for tables in dir_MVPA:\n",
    "    addStudyId(pd.read_csv(tables), df_ids).to_csv(tables, index=False)"
   ]
  },
  {
   "cell_type": "markdown",
   "metadata": {},
   "source": [
    "### SED"
   ]
  },
  {
   "cell_type": "code",
   "execution_count": 31,
   "metadata": {},
   "outputs": [
    {
     "name": "stdout",
     "output_type": "stream",
     "text": [
      "C:\\Users\\mrwby\\Desktop\\MBC2_Copy\\Result\\ids.csv\n",
      "C:\\Users\\mrwby\\Desktop\\MBC2_Copy\\Result\\pa_window.csv\n",
      "C:\\Users\\mrwby\\Desktop\\MBC2_Copy\\Result\\sed_clean.csv\n"
     ]
    }
   ],
   "source": [
    "dir_else = []\n",
    "\n",
    "directory = r'C:\\Users\\mrwby\\Desktop\\MBC2_Copy\\Result'\n",
    "for filename in os.listdir(directory):\n",
    "    if filename.endswith(\".csv\"):\n",
    "        print(os.path.join(directory, filename))\n",
    "        dir_else.append(os.path.join(directory, filename))\n",
    "    else:\n",
    "        continue"
   ]
  },
  {
   "cell_type": "code",
   "execution_count": 32,
   "metadata": {},
   "outputs": [],
   "source": [
    "for tables in dir_else:\n",
    "    addStudyId(pd.read_csv(tables), df_ids).to_csv(tables, index=False)"
   ]
  },
  {
   "cell_type": "code",
   "execution_count": null,
   "metadata": {},
   "outputs": [],
   "source": []
  }
 ],
 "metadata": {
  "kernelspec": {
   "display_name": "Python 3",
   "language": "python",
   "name": "python3"
  },
  "language_info": {
   "codemirror_mode": {
    "name": "ipython",
    "version": 3
   },
   "file_extension": ".py",
   "mimetype": "text/x-python",
   "name": "python",
   "nbconvert_exporter": "python",
   "pygments_lexer": "ipython3",
   "version": "3.7.3"
  }
 },
 "nbformat": 4,
 "nbformat_minor": 4
}
